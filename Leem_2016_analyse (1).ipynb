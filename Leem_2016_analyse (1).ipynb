{
 "cells": [
  {
   "cell_type": "code",
   "execution_count": 577,
   "metadata": {},
   "outputs": [],
   "source": [
    "import pandas as pd\n",
    "import scipy\n",
    "import pyreadstat\n",
    "import pyshs\n",
    "import matplotlib.pyplot as plt\n",
    "import seaborn as sns\n",
    "import prince\n",
    "import numpy as np"
   ]
  },
  {
   "cell_type": "code",
   "execution_count": 578,
   "metadata": {},
   "outputs": [],
   "source": [
    "pd.set_option('display.max_columns', None)"
   ]
  },
  {
   "cell_type": "code",
   "execution_count": 579,
   "metadata": {},
   "outputs": [],
   "source": [
    "data = pd.read_csv(r\"C:\\Users\\rana_\\OneDrive\\Bureau\\inserm\\travaux\\IFOP et LEEM\\transfer_5678355_files_71b8c3b2\\LEEM-2016\\2016_BDD.csv\")"
   ]
  },
  {
   "cell_type": "code",
   "execution_count": 580,
   "metadata": {},
   "outputs": [
    {
     "data": {
      "text/html": [
       "<div>\n",
       "<style scoped>\n",
       "    .dataframe tbody tr th:only-of-type {\n",
       "        vertical-align: middle;\n",
       "    }\n",
       "\n",
       "    .dataframe tbody tr th {\n",
       "        vertical-align: top;\n",
       "    }\n",
       "\n",
       "    .dataframe thead th {\n",
       "        text-align: right;\n",
       "    }\n",
       "</style>\n",
       "<table border=\"1\" class=\"dataframe\">\n",
       "  <thead>\n",
       "    <tr style=\"text-align: right;\">\n",
       "      <th></th>\n",
       "      <th>PSD</th>\n",
       "      <th>GENDER</th>\n",
       "      <th>QAGE</th>\n",
       "      <th>DEP</th>\n",
       "      <th>REGION9</th>\n",
       "      <th>UDA5</th>\n",
       "      <th>AGGLO</th>\n",
       "      <th>HHSIZE12</th>\n",
       "      <th>MARITALL</th>\n",
       "      <th>EMP01</th>\n",
       "      <th>FR02EDU</th>\n",
       "      <th>FR02EMPHI</th>\n",
       "      <th>MKTSIZE</th>\n",
       "      <th>PCSC8</th>\n",
       "      <th>PCSI8</th>\n",
       "      <th>Q1L</th>\n",
       "      <th>Q2L</th>\n",
       "      <th>Q3L_0</th>\n",
       "      <th>Q3L_1</th>\n",
       "      <th>Q3L_2</th>\n",
       "      <th>Q3L_3</th>\n",
       "      <th>Q3L_4</th>\n",
       "      <th>Q3L_5</th>\n",
       "      <th>Q3L_6</th>\n",
       "      <th>Q3L_7</th>\n",
       "      <th>Q4L_0</th>\n",
       "      <th>Q4L_1</th>\n",
       "      <th>Q4L_2</th>\n",
       "      <th>Q4L_3</th>\n",
       "      <th>Q4L_4</th>\n",
       "      <th>Q4L_5</th>\n",
       "      <th>Q4L_6</th>\n",
       "      <th>Q4L_7</th>\n",
       "      <th>Q4L_8</th>\n",
       "      <th>Q4L_9</th>\n",
       "      <th>Q4L_10</th>\n",
       "      <th>Q4L_11</th>\n",
       "      <th>Q4L_12</th>\n",
       "      <th>Q4L_13</th>\n",
       "      <th>Q4L_14</th>\n",
       "      <th>Q4L_15</th>\n",
       "      <th>Q4L_16</th>\n",
       "      <th>Q5L_0</th>\n",
       "      <th>Q5L_1</th>\n",
       "      <th>Q5L_2</th>\n",
       "      <th>Q5L_3</th>\n",
       "      <th>Q5L_4</th>\n",
       "      <th>Q5L_5</th>\n",
       "      <th>Q5L_6</th>\n",
       "      <th>Q5L_7</th>\n",
       "      <th>Q5L_8</th>\n",
       "      <th>Q5L_9</th>\n",
       "      <th>Q6AL_0</th>\n",
       "      <th>Q6AL_1</th>\n",
       "      <th>Q6AL_2</th>\n",
       "      <th>Q6AL_3</th>\n",
       "      <th>Q6AL_4</th>\n",
       "      <th>Q6AL_5</th>\n",
       "      <th>Q6AL_6</th>\n",
       "      <th>Q6AL_7</th>\n",
       "      <th>Q6AL_8</th>\n",
       "      <th>Q6AL_9</th>\n",
       "      <th>Q6AL_10</th>\n",
       "      <th>Q6AL_11</th>\n",
       "      <th>Q6AL_12</th>\n",
       "      <th>Q6BL_0</th>\n",
       "      <th>Q6BL_1</th>\n",
       "      <th>Q6BL_2</th>\n",
       "      <th>Q6BL_3</th>\n",
       "      <th>Q6BL_4</th>\n",
       "      <th>Q6BL_5</th>\n",
       "      <th>Q6BL_6</th>\n",
       "      <th>Q6BL_7</th>\n",
       "      <th>Q6BL_8</th>\n",
       "      <th>Q6BL_9</th>\n",
       "      <th>Q6BL_10</th>\n",
       "      <th>Q6BL_11</th>\n",
       "      <th>Q6BL_12</th>\n",
       "      <th>Q7O_0</th>\n",
       "      <th>Q7O_1</th>\n",
       "      <th>Q7O_2</th>\n",
       "      <th>Q7O_3</th>\n",
       "      <th>Q7O_4</th>\n",
       "      <th>Q7O_5</th>\n",
       "      <th>Q7O_6</th>\n",
       "      <th>Q7O_7</th>\n",
       "      <th>Q7O_8</th>\n",
       "      <th>Q7O_9</th>\n",
       "      <th>Q7O_10</th>\n",
       "      <th>Q7O_11</th>\n",
       "      <th>Q7O_12</th>\n",
       "      <th>Q7O_13</th>\n",
       "      <th>Q7O_14</th>\n",
       "      <th>Q7O_15</th>\n",
       "      <th>Q7O_16</th>\n",
       "      <th>Q7O_17</th>\n",
       "      <th>Q7O_18</th>\n",
       "      <th>Q7O_19</th>\n",
       "      <th>Q7O_20</th>\n",
       "      <th>Q7O_21</th>\n",
       "      <th>Q7O_22</th>\n",
       "      <th>Q7O_23</th>\n",
       "      <th>Q7O_24</th>\n",
       "      <th>Q7O_25</th>\n",
       "      <th>Q7O_26</th>\n",
       "      <th>Q7O_27</th>\n",
       "      <th>Q7O_28</th>\n",
       "      <th>Q7O_29</th>\n",
       "      <th>Q7O_30</th>\n",
       "      <th>Q8</th>\n",
       "      <th>Q9L</th>\n",
       "      <th>RS1L</th>\n",
       "      <th>RS2</th>\n",
       "      <th>RS3_0</th>\n",
       "      <th>RS3_1</th>\n",
       "      <th>RS3_2</th>\n",
       "      <th>RS3_3</th>\n",
       "      <th>RS3_4</th>\n",
       "      <th>RS3_5</th>\n",
       "      <th>RS3_6</th>\n",
       "      <th>RS3_7</th>\n",
       "      <th>RS3_8</th>\n",
       "      <th>RS3_9</th>\n",
       "      <th>RS4</th>\n",
       "      <th>RS5L</th>\n",
       "      <th>RS5BL_0</th>\n",
       "      <th>RS5BL_1</th>\n",
       "      <th>RS5BL_2</th>\n",
       "      <th>RS5BL_3</th>\n",
       "      <th>RS5BL_4</th>\n",
       "      <th>INCOME</th>\n",
       "      <th>EDUC</th>\n",
       "    </tr>\n",
       "  </thead>\n",
       "  <tbody>\n",
       "    <tr>\n",
       "      <th>0</th>\n",
       "      <td>0.916463</td>\n",
       "      <td>2</td>\n",
       "      <td>4</td>\n",
       "      <td>94</td>\n",
       "      <td>1</td>\n",
       "      <td>1</td>\n",
       "      <td>5</td>\n",
       "      <td>2</td>\n",
       "      <td>1</td>\n",
       "      <td>1</td>\n",
       "      <td>7</td>\n",
       "      <td>1</td>\n",
       "      <td>5</td>\n",
       "      <td>3</td>\n",
       "      <td>3</td>\n",
       "      <td>2</td>\n",
       "      <td>2</td>\n",
       "      <td>2</td>\n",
       "      <td>2</td>\n",
       "      <td>2</td>\n",
       "      <td>2</td>\n",
       "      <td>2</td>\n",
       "      <td>2</td>\n",
       "      <td>2</td>\n",
       "      <td>2</td>\n",
       "      <td>2</td>\n",
       "      <td>2</td>\n",
       "      <td>2</td>\n",
       "      <td>2</td>\n",
       "      <td>2</td>\n",
       "      <td>2</td>\n",
       "      <td>2</td>\n",
       "      <td>2</td>\n",
       "      <td>2</td>\n",
       "      <td>2</td>\n",
       "      <td>3</td>\n",
       "      <td>2</td>\n",
       "      <td>2</td>\n",
       "      <td>2</td>\n",
       "      <td>1</td>\n",
       "      <td>2</td>\n",
       "      <td>2</td>\n",
       "      <td>2</td>\n",
       "      <td>3</td>\n",
       "      <td>2</td>\n",
       "      <td>2</td>\n",
       "      <td>2</td>\n",
       "      <td>2</td>\n",
       "      <td>3</td>\n",
       "      <td>2</td>\n",
       "      <td>2</td>\n",
       "      <td>2</td>\n",
       "      <td>2</td>\n",
       "      <td>2</td>\n",
       "      <td>2</td>\n",
       "      <td>2</td>\n",
       "      <td>3</td>\n",
       "      <td>2</td>\n",
       "      <td>2</td>\n",
       "      <td>2</td>\n",
       "      <td>2</td>\n",
       "      <td>2</td>\n",
       "      <td>2</td>\n",
       "      <td>3</td>\n",
       "      <td>3</td>\n",
       "      <td></td>\n",
       "      <td></td>\n",
       "      <td></td>\n",
       "      <td></td>\n",
       "      <td></td>\n",
       "      <td></td>\n",
       "      <td></td>\n",
       "      <td></td>\n",
       "      <td></td>\n",
       "      <td></td>\n",
       "      <td></td>\n",
       "      <td></td>\n",
       "      <td></td>\n",
       "      <td>0</td>\n",
       "      <td>0</td>\n",
       "      <td>0</td>\n",
       "      <td>0</td>\n",
       "      <td>0</td>\n",
       "      <td>0</td>\n",
       "      <td>0</td>\n",
       "      <td>0</td>\n",
       "      <td>0</td>\n",
       "      <td>0</td>\n",
       "      <td>0</td>\n",
       "      <td>0</td>\n",
       "      <td>0</td>\n",
       "      <td>0</td>\n",
       "      <td>0</td>\n",
       "      <td>0</td>\n",
       "      <td>0</td>\n",
       "      <td>0</td>\n",
       "      <td>0</td>\n",
       "      <td>0</td>\n",
       "      <td>0</td>\n",
       "      <td>0</td>\n",
       "      <td>0</td>\n",
       "      <td>0</td>\n",
       "      <td>0</td>\n",
       "      <td>0</td>\n",
       "      <td>0</td>\n",
       "      <td>0</td>\n",
       "      <td>0</td>\n",
       "      <td>0</td>\n",
       "      <td>1</td>\n",
       "      <td>1</td>\n",
       "      <td>2</td>\n",
       "      <td>1</td>\n",
       "      <td>2</td>\n",
       "      <td>0</td>\n",
       "      <td>0</td>\n",
       "      <td>0</td>\n",
       "      <td>0</td>\n",
       "      <td>0</td>\n",
       "      <td>0</td>\n",
       "      <td>0</td>\n",
       "      <td>0</td>\n",
       "      <td>0</td>\n",
       "      <td>0</td>\n",
       "      <td>2</td>\n",
       "      <td>2</td>\n",
       "      <td></td>\n",
       "      <td></td>\n",
       "      <td></td>\n",
       "      <td></td>\n",
       "      <td>1</td>\n",
       "      <td>4</td>\n",
       "      <td>6</td>\n",
       "    </tr>\n",
       "    <tr>\n",
       "      <th>1</th>\n",
       "      <td>0.898158</td>\n",
       "      <td>1</td>\n",
       "      <td>5</td>\n",
       "      <td>83</td>\n",
       "      <td>9</td>\n",
       "      <td>5</td>\n",
       "      <td>3</td>\n",
       "      <td>3</td>\n",
       "      <td>3</td>\n",
       "      <td>7</td>\n",
       "      <td>3</td>\n",
       "      <td>7</td>\n",
       "      <td>3</td>\n",
       "      <td>7</td>\n",
       "      <td>7</td>\n",
       "      <td>1</td>\n",
       "      <td>1</td>\n",
       "      <td>1</td>\n",
       "      <td>1</td>\n",
       "      <td>1</td>\n",
       "      <td>2</td>\n",
       "      <td>2</td>\n",
       "      <td>1</td>\n",
       "      <td>3</td>\n",
       "      <td>3</td>\n",
       "      <td>1</td>\n",
       "      <td>2</td>\n",
       "      <td>2</td>\n",
       "      <td>2</td>\n",
       "      <td>3</td>\n",
       "      <td>2</td>\n",
       "      <td>2</td>\n",
       "      <td>2</td>\n",
       "      <td>3</td>\n",
       "      <td>4</td>\n",
       "      <td>4</td>\n",
       "      <td>3</td>\n",
       "      <td>4</td>\n",
       "      <td>4</td>\n",
       "      <td>4</td>\n",
       "      <td>3</td>\n",
       "      <td>1</td>\n",
       "      <td>4</td>\n",
       "      <td>4</td>\n",
       "      <td>4</td>\n",
       "      <td>4</td>\n",
       "      <td>3</td>\n",
       "      <td>4</td>\n",
       "      <td>4</td>\n",
       "      <td>4</td>\n",
       "      <td>4</td>\n",
       "      <td>4</td>\n",
       "      <td></td>\n",
       "      <td></td>\n",
       "      <td></td>\n",
       "      <td></td>\n",
       "      <td></td>\n",
       "      <td></td>\n",
       "      <td></td>\n",
       "      <td></td>\n",
       "      <td></td>\n",
       "      <td></td>\n",
       "      <td></td>\n",
       "      <td></td>\n",
       "      <td></td>\n",
       "      <td>4</td>\n",
       "      <td>3</td>\n",
       "      <td>4</td>\n",
       "      <td>4</td>\n",
       "      <td>4</td>\n",
       "      <td>4</td>\n",
       "      <td>4</td>\n",
       "      <td>4</td>\n",
       "      <td>4</td>\n",
       "      <td>4</td>\n",
       "      <td>4</td>\n",
       "      <td>4</td>\n",
       "      <td>4</td>\n",
       "      <td>0</td>\n",
       "      <td>0</td>\n",
       "      <td>0</td>\n",
       "      <td>0</td>\n",
       "      <td>0</td>\n",
       "      <td>0</td>\n",
       "      <td>0</td>\n",
       "      <td>0</td>\n",
       "      <td>0</td>\n",
       "      <td>0</td>\n",
       "      <td>0</td>\n",
       "      <td>0</td>\n",
       "      <td>0</td>\n",
       "      <td>0</td>\n",
       "      <td>0</td>\n",
       "      <td>0</td>\n",
       "      <td>0</td>\n",
       "      <td>0</td>\n",
       "      <td>0</td>\n",
       "      <td>0</td>\n",
       "      <td>0</td>\n",
       "      <td>0</td>\n",
       "      <td>0</td>\n",
       "      <td>0</td>\n",
       "      <td>0</td>\n",
       "      <td>1</td>\n",
       "      <td>0</td>\n",
       "      <td>0</td>\n",
       "      <td>0</td>\n",
       "      <td>0</td>\n",
       "      <td>0</td>\n",
       "      <td>2</td>\n",
       "      <td>4</td>\n",
       "      <td>3</td>\n",
       "      <td>2</td>\n",
       "      <td>0</td>\n",
       "      <td>0</td>\n",
       "      <td>0</td>\n",
       "      <td>0</td>\n",
       "      <td>0</td>\n",
       "      <td>0</td>\n",
       "      <td>0</td>\n",
       "      <td>0</td>\n",
       "      <td>0</td>\n",
       "      <td>0</td>\n",
       "      <td>2</td>\n",
       "      <td>6</td>\n",
       "      <td></td>\n",
       "      <td></td>\n",
       "      <td></td>\n",
       "      <td></td>\n",
       "      <td></td>\n",
       "      <td>4</td>\n",
       "      <td>3</td>\n",
       "    </tr>\n",
       "    <tr>\n",
       "      <th>2</th>\n",
       "      <td>0.837896</td>\n",
       "      <td>2</td>\n",
       "      <td>1</td>\n",
       "      <td>44</td>\n",
       "      <td>5</td>\n",
       "      <td>2</td>\n",
       "      <td>4</td>\n",
       "      <td>2</td>\n",
       "      <td>7</td>\n",
       "      <td>1</td>\n",
       "      <td>4</td>\n",
       "      <td>1</td>\n",
       "      <td>4</td>\n",
       "      <td>5</td>\n",
       "      <td>5</td>\n",
       "      <td>2</td>\n",
       "      <td>2</td>\n",
       "      <td>2</td>\n",
       "      <td>2</td>\n",
       "      <td>2</td>\n",
       "      <td>2</td>\n",
       "      <td>2</td>\n",
       "      <td>2</td>\n",
       "      <td>2</td>\n",
       "      <td>2</td>\n",
       "      <td>2</td>\n",
       "      <td>2</td>\n",
       "      <td>2</td>\n",
       "      <td>2</td>\n",
       "      <td>3</td>\n",
       "      <td>2</td>\n",
       "      <td>3</td>\n",
       "      <td>2</td>\n",
       "      <td>3</td>\n",
       "      <td>3</td>\n",
       "      <td>3</td>\n",
       "      <td>3</td>\n",
       "      <td>3</td>\n",
       "      <td>3</td>\n",
       "      <td>2</td>\n",
       "      <td>3</td>\n",
       "      <td>3</td>\n",
       "      <td>3</td>\n",
       "      <td>2</td>\n",
       "      <td>3</td>\n",
       "      <td>2</td>\n",
       "      <td>3</td>\n",
       "      <td>2</td>\n",
       "      <td>2</td>\n",
       "      <td>2</td>\n",
       "      <td>3</td>\n",
       "      <td>2</td>\n",
       "      <td></td>\n",
       "      <td></td>\n",
       "      <td></td>\n",
       "      <td></td>\n",
       "      <td></td>\n",
       "      <td></td>\n",
       "      <td></td>\n",
       "      <td></td>\n",
       "      <td></td>\n",
       "      <td></td>\n",
       "      <td></td>\n",
       "      <td></td>\n",
       "      <td></td>\n",
       "      <td>2</td>\n",
       "      <td>3</td>\n",
       "      <td>1</td>\n",
       "      <td>3</td>\n",
       "      <td>3</td>\n",
       "      <td>2</td>\n",
       "      <td>2</td>\n",
       "      <td>2</td>\n",
       "      <td>3</td>\n",
       "      <td>3</td>\n",
       "      <td>3</td>\n",
       "      <td>4</td>\n",
       "      <td>3</td>\n",
       "      <td>0</td>\n",
       "      <td>0</td>\n",
       "      <td>0</td>\n",
       "      <td>0</td>\n",
       "      <td>0</td>\n",
       "      <td>0</td>\n",
       "      <td>0</td>\n",
       "      <td>0</td>\n",
       "      <td>0</td>\n",
       "      <td>0</td>\n",
       "      <td>0</td>\n",
       "      <td>0</td>\n",
       "      <td>0</td>\n",
       "      <td>0</td>\n",
       "      <td>0</td>\n",
       "      <td>0</td>\n",
       "      <td>0</td>\n",
       "      <td>0</td>\n",
       "      <td>0</td>\n",
       "      <td>0</td>\n",
       "      <td>0</td>\n",
       "      <td>0</td>\n",
       "      <td>0</td>\n",
       "      <td>0</td>\n",
       "      <td>0</td>\n",
       "      <td>0</td>\n",
       "      <td>0</td>\n",
       "      <td>0</td>\n",
       "      <td>0</td>\n",
       "      <td>0</td>\n",
       "      <td>1</td>\n",
       "      <td>3</td>\n",
       "      <td>1</td>\n",
       "      <td>1</td>\n",
       "      <td>2</td>\n",
       "      <td>0</td>\n",
       "      <td>0</td>\n",
       "      <td>0</td>\n",
       "      <td>0</td>\n",
       "      <td>0</td>\n",
       "      <td>0</td>\n",
       "      <td>0</td>\n",
       "      <td>0</td>\n",
       "      <td>0</td>\n",
       "      <td>0</td>\n",
       "      <td>2</td>\n",
       "      <td>6</td>\n",
       "      <td></td>\n",
       "      <td></td>\n",
       "      <td></td>\n",
       "      <td></td>\n",
       "      <td></td>\n",
       "      <td>3</td>\n",
       "      <td>3</td>\n",
       "    </tr>\n",
       "    <tr>\n",
       "      <th>3</th>\n",
       "      <td>1.013456</td>\n",
       "      <td>2</td>\n",
       "      <td>3</td>\n",
       "      <td>92</td>\n",
       "      <td>1</td>\n",
       "      <td>1</td>\n",
       "      <td>5</td>\n",
       "      <td>4</td>\n",
       "      <td>7</td>\n",
       "      <td>2</td>\n",
       "      <td>5</td>\n",
       "      <td>2</td>\n",
       "      <td>5</td>\n",
       "      <td>4</td>\n",
       "      <td>4</td>\n",
       "      <td>2</td>\n",
       "      <td>2</td>\n",
       "      <td>2</td>\n",
       "      <td>2</td>\n",
       "      <td>2</td>\n",
       "      <td>2</td>\n",
       "      <td>2</td>\n",
       "      <td>2</td>\n",
       "      <td>3</td>\n",
       "      <td>1</td>\n",
       "      <td>2</td>\n",
       "      <td>2</td>\n",
       "      <td>2</td>\n",
       "      <td>2</td>\n",
       "      <td>3</td>\n",
       "      <td>2</td>\n",
       "      <td>2</td>\n",
       "      <td>2</td>\n",
       "      <td>2</td>\n",
       "      <td>4</td>\n",
       "      <td>3</td>\n",
       "      <td>2</td>\n",
       "      <td>3</td>\n",
       "      <td>3</td>\n",
       "      <td>4</td>\n",
       "      <td>3</td>\n",
       "      <td>3</td>\n",
       "      <td>4</td>\n",
       "      <td>3</td>\n",
       "      <td>4</td>\n",
       "      <td>3</td>\n",
       "      <td>2</td>\n",
       "      <td>4</td>\n",
       "      <td>3</td>\n",
       "      <td>3</td>\n",
       "      <td>4</td>\n",
       "      <td>2</td>\n",
       "      <td>2</td>\n",
       "      <td>2</td>\n",
       "      <td>2</td>\n",
       "      <td>3</td>\n",
       "      <td>2</td>\n",
       "      <td>2</td>\n",
       "      <td>2</td>\n",
       "      <td>2</td>\n",
       "      <td>3</td>\n",
       "      <td>3</td>\n",
       "      <td>2</td>\n",
       "      <td>3</td>\n",
       "      <td>3</td>\n",
       "      <td></td>\n",
       "      <td></td>\n",
       "      <td></td>\n",
       "      <td></td>\n",
       "      <td></td>\n",
       "      <td></td>\n",
       "      <td></td>\n",
       "      <td></td>\n",
       "      <td></td>\n",
       "      <td></td>\n",
       "      <td></td>\n",
       "      <td></td>\n",
       "      <td></td>\n",
       "      <td>0</td>\n",
       "      <td>0</td>\n",
       "      <td>0</td>\n",
       "      <td>0</td>\n",
       "      <td>0</td>\n",
       "      <td>0</td>\n",
       "      <td>0</td>\n",
       "      <td>0</td>\n",
       "      <td>0</td>\n",
       "      <td>0</td>\n",
       "      <td>0</td>\n",
       "      <td>0</td>\n",
       "      <td>0</td>\n",
       "      <td>1</td>\n",
       "      <td>0</td>\n",
       "      <td>0</td>\n",
       "      <td>1</td>\n",
       "      <td>0</td>\n",
       "      <td>0</td>\n",
       "      <td>0</td>\n",
       "      <td>0</td>\n",
       "      <td>0</td>\n",
       "      <td>0</td>\n",
       "      <td>0</td>\n",
       "      <td>0</td>\n",
       "      <td>0</td>\n",
       "      <td>0</td>\n",
       "      <td>0</td>\n",
       "      <td>0</td>\n",
       "      <td>0</td>\n",
       "      <td>0</td>\n",
       "      <td>1</td>\n",
       "      <td>1</td>\n",
       "      <td>1</td>\n",
       "      <td>1</td>\n",
       "      <td>1</td>\n",
       "      <td>0</td>\n",
       "      <td>0</td>\n",
       "      <td>0</td>\n",
       "      <td>0</td>\n",
       "      <td>1</td>\n",
       "      <td>0</td>\n",
       "      <td>0</td>\n",
       "      <td>0</td>\n",
       "      <td>0</td>\n",
       "      <td>1</td>\n",
       "      <td>2</td>\n",
       "      <td>1</td>\n",
       "      <td>1</td>\n",
       "      <td></td>\n",
       "      <td></td>\n",
       "      <td></td>\n",
       "      <td>4</td>\n",
       "      <td>4</td>\n",
       "    </tr>\n",
       "    <tr>\n",
       "      <th>4</th>\n",
       "      <td>0.869873</td>\n",
       "      <td>1</td>\n",
       "      <td>2</td>\n",
       "      <td>9</td>\n",
       "      <td>7</td>\n",
       "      <td>4</td>\n",
       "      <td>1</td>\n",
       "      <td>1</td>\n",
       "      <td>1</td>\n",
       "      <td>1</td>\n",
       "      <td>6</td>\n",
       "      <td>1</td>\n",
       "      <td>1</td>\n",
       "      <td>5</td>\n",
       "      <td>5</td>\n",
       "      <td>3</td>\n",
       "      <td>4</td>\n",
       "      <td>4</td>\n",
       "      <td>4</td>\n",
       "      <td>4</td>\n",
       "      <td>4</td>\n",
       "      <td>4</td>\n",
       "      <td>4</td>\n",
       "      <td>4</td>\n",
       "      <td>4</td>\n",
       "      <td>4</td>\n",
       "      <td>4</td>\n",
       "      <td>4</td>\n",
       "      <td>4</td>\n",
       "      <td>4</td>\n",
       "      <td>4</td>\n",
       "      <td>3</td>\n",
       "      <td>4</td>\n",
       "      <td>4</td>\n",
       "      <td>4</td>\n",
       "      <td>4</td>\n",
       "      <td>3</td>\n",
       "      <td>4</td>\n",
       "      <td>4</td>\n",
       "      <td>4</td>\n",
       "      <td>4</td>\n",
       "      <td>4</td>\n",
       "      <td>5</td>\n",
       "      <td>5</td>\n",
       "      <td>5</td>\n",
       "      <td>5</td>\n",
       "      <td>5</td>\n",
       "      <td>5</td>\n",
       "      <td>5</td>\n",
       "      <td>5</td>\n",
       "      <td>5</td>\n",
       "      <td>5</td>\n",
       "      <td></td>\n",
       "      <td></td>\n",
       "      <td></td>\n",
       "      <td></td>\n",
       "      <td></td>\n",
       "      <td></td>\n",
       "      <td></td>\n",
       "      <td></td>\n",
       "      <td></td>\n",
       "      <td></td>\n",
       "      <td></td>\n",
       "      <td></td>\n",
       "      <td></td>\n",
       "      <td>4</td>\n",
       "      <td>4</td>\n",
       "      <td>4</td>\n",
       "      <td>4</td>\n",
       "      <td>4</td>\n",
       "      <td>4</td>\n",
       "      <td>4</td>\n",
       "      <td>4</td>\n",
       "      <td>4</td>\n",
       "      <td>4</td>\n",
       "      <td>4</td>\n",
       "      <td>4</td>\n",
       "      <td>4</td>\n",
       "      <td>0</td>\n",
       "      <td>0</td>\n",
       "      <td>0</td>\n",
       "      <td>0</td>\n",
       "      <td>0</td>\n",
       "      <td>0</td>\n",
       "      <td>0</td>\n",
       "      <td>0</td>\n",
       "      <td>0</td>\n",
       "      <td>0</td>\n",
       "      <td>0</td>\n",
       "      <td>0</td>\n",
       "      <td>0</td>\n",
       "      <td>0</td>\n",
       "      <td>0</td>\n",
       "      <td>0</td>\n",
       "      <td>0</td>\n",
       "      <td>0</td>\n",
       "      <td>0</td>\n",
       "      <td>0</td>\n",
       "      <td>0</td>\n",
       "      <td>0</td>\n",
       "      <td>0</td>\n",
       "      <td>0</td>\n",
       "      <td>0</td>\n",
       "      <td>0</td>\n",
       "      <td>0</td>\n",
       "      <td>0</td>\n",
       "      <td>0</td>\n",
       "      <td>1</td>\n",
       "      <td>0</td>\n",
       "      <td>3</td>\n",
       "      <td>4</td>\n",
       "      <td>8</td>\n",
       "      <td>2</td>\n",
       "      <td>0</td>\n",
       "      <td>0</td>\n",
       "      <td>0</td>\n",
       "      <td>0</td>\n",
       "      <td>0</td>\n",
       "      <td>0</td>\n",
       "      <td>0</td>\n",
       "      <td>0</td>\n",
       "      <td>0</td>\n",
       "      <td>0</td>\n",
       "      <td>2</td>\n",
       "      <td>6</td>\n",
       "      <td></td>\n",
       "      <td></td>\n",
       "      <td></td>\n",
       "      <td></td>\n",
       "      <td></td>\n",
       "      <td></td>\n",
       "      <td>5</td>\n",
       "    </tr>\n",
       "    <tr>\n",
       "      <th>...</th>\n",
       "      <td>...</td>\n",
       "      <td>...</td>\n",
       "      <td>...</td>\n",
       "      <td>...</td>\n",
       "      <td>...</td>\n",
       "      <td>...</td>\n",
       "      <td>...</td>\n",
       "      <td>...</td>\n",
       "      <td>...</td>\n",
       "      <td>...</td>\n",
       "      <td>...</td>\n",
       "      <td>...</td>\n",
       "      <td>...</td>\n",
       "      <td>...</td>\n",
       "      <td>...</td>\n",
       "      <td>...</td>\n",
       "      <td>...</td>\n",
       "      <td>...</td>\n",
       "      <td>...</td>\n",
       "      <td>...</td>\n",
       "      <td>...</td>\n",
       "      <td>...</td>\n",
       "      <td>...</td>\n",
       "      <td>...</td>\n",
       "      <td>...</td>\n",
       "      <td>...</td>\n",
       "      <td>...</td>\n",
       "      <td>...</td>\n",
       "      <td>...</td>\n",
       "      <td>...</td>\n",
       "      <td>...</td>\n",
       "      <td>...</td>\n",
       "      <td>...</td>\n",
       "      <td>...</td>\n",
       "      <td>...</td>\n",
       "      <td>...</td>\n",
       "      <td>...</td>\n",
       "      <td>...</td>\n",
       "      <td>...</td>\n",
       "      <td>...</td>\n",
       "      <td>...</td>\n",
       "      <td>...</td>\n",
       "      <td>...</td>\n",
       "      <td>...</td>\n",
       "      <td>...</td>\n",
       "      <td>...</td>\n",
       "      <td>...</td>\n",
       "      <td>...</td>\n",
       "      <td>...</td>\n",
       "      <td>...</td>\n",
       "      <td>...</td>\n",
       "      <td>...</td>\n",
       "      <td>...</td>\n",
       "      <td>...</td>\n",
       "      <td>...</td>\n",
       "      <td>...</td>\n",
       "      <td>...</td>\n",
       "      <td>...</td>\n",
       "      <td>...</td>\n",
       "      <td>...</td>\n",
       "      <td>...</td>\n",
       "      <td>...</td>\n",
       "      <td>...</td>\n",
       "      <td>...</td>\n",
       "      <td>...</td>\n",
       "      <td>...</td>\n",
       "      <td>...</td>\n",
       "      <td>...</td>\n",
       "      <td>...</td>\n",
       "      <td>...</td>\n",
       "      <td>...</td>\n",
       "      <td>...</td>\n",
       "      <td>...</td>\n",
       "      <td>...</td>\n",
       "      <td>...</td>\n",
       "      <td>...</td>\n",
       "      <td>...</td>\n",
       "      <td>...</td>\n",
       "      <td>...</td>\n",
       "      <td>...</td>\n",
       "      <td>...</td>\n",
       "      <td>...</td>\n",
       "      <td>...</td>\n",
       "      <td>...</td>\n",
       "      <td>...</td>\n",
       "      <td>...</td>\n",
       "      <td>...</td>\n",
       "      <td>...</td>\n",
       "      <td>...</td>\n",
       "      <td>...</td>\n",
       "      <td>...</td>\n",
       "      <td>...</td>\n",
       "      <td>...</td>\n",
       "      <td>...</td>\n",
       "      <td>...</td>\n",
       "      <td>...</td>\n",
       "      <td>...</td>\n",
       "      <td>...</td>\n",
       "      <td>...</td>\n",
       "      <td>...</td>\n",
       "      <td>...</td>\n",
       "      <td>...</td>\n",
       "      <td>...</td>\n",
       "      <td>...</td>\n",
       "      <td>...</td>\n",
       "      <td>...</td>\n",
       "      <td>...</td>\n",
       "      <td>...</td>\n",
       "      <td>...</td>\n",
       "      <td>...</td>\n",
       "      <td>...</td>\n",
       "      <td>...</td>\n",
       "      <td>...</td>\n",
       "      <td>...</td>\n",
       "      <td>...</td>\n",
       "      <td>...</td>\n",
       "      <td>...</td>\n",
       "      <td>...</td>\n",
       "      <td>...</td>\n",
       "      <td>...</td>\n",
       "      <td>...</td>\n",
       "      <td>...</td>\n",
       "      <td>...</td>\n",
       "      <td>...</td>\n",
       "      <td>...</td>\n",
       "      <td>...</td>\n",
       "      <td>...</td>\n",
       "      <td>...</td>\n",
       "      <td>...</td>\n",
       "      <td>...</td>\n",
       "      <td>...</td>\n",
       "      <td>...</td>\n",
       "    </tr>\n",
       "    <tr>\n",
       "      <th>995</th>\n",
       "      <td>0.841224</td>\n",
       "      <td>2</td>\n",
       "      <td>1</td>\n",
       "      <td>42</td>\n",
       "      <td>8</td>\n",
       "      <td>5</td>\n",
       "      <td>1</td>\n",
       "      <td>4</td>\n",
       "      <td>2</td>\n",
       "      <td>1</td>\n",
       "      <td>5</td>\n",
       "      <td>7</td>\n",
       "      <td>1</td>\n",
       "      <td>5</td>\n",
       "      <td>5</td>\n",
       "      <td>3</td>\n",
       "      <td>3</td>\n",
       "      <td>4</td>\n",
       "      <td>4</td>\n",
       "      <td>4</td>\n",
       "      <td>4</td>\n",
       "      <td>4</td>\n",
       "      <td>4</td>\n",
       "      <td>3</td>\n",
       "      <td>1</td>\n",
       "      <td>4</td>\n",
       "      <td>2</td>\n",
       "      <td>4</td>\n",
       "      <td>4</td>\n",
       "      <td>4</td>\n",
       "      <td>2</td>\n",
       "      <td>4</td>\n",
       "      <td>3</td>\n",
       "      <td>4</td>\n",
       "      <td>4</td>\n",
       "      <td>4</td>\n",
       "      <td>4</td>\n",
       "      <td>4</td>\n",
       "      <td>4</td>\n",
       "      <td>1</td>\n",
       "      <td>4</td>\n",
       "      <td>4</td>\n",
       "      <td>4</td>\n",
       "      <td>4</td>\n",
       "      <td>4</td>\n",
       "      <td>4</td>\n",
       "      <td>4</td>\n",
       "      <td>4</td>\n",
       "      <td>4</td>\n",
       "      <td>4</td>\n",
       "      <td>4</td>\n",
       "      <td>4</td>\n",
       "      <td>3</td>\n",
       "      <td>3</td>\n",
       "      <td>3</td>\n",
       "      <td>3</td>\n",
       "      <td>3</td>\n",
       "      <td>3</td>\n",
       "      <td>3</td>\n",
       "      <td>3</td>\n",
       "      <td>3</td>\n",
       "      <td>3</td>\n",
       "      <td>3</td>\n",
       "      <td>3</td>\n",
       "      <td>3</td>\n",
       "      <td></td>\n",
       "      <td></td>\n",
       "      <td></td>\n",
       "      <td></td>\n",
       "      <td></td>\n",
       "      <td></td>\n",
       "      <td></td>\n",
       "      <td></td>\n",
       "      <td></td>\n",
       "      <td></td>\n",
       "      <td></td>\n",
       "      <td></td>\n",
       "      <td></td>\n",
       "      <td>0</td>\n",
       "      <td>0</td>\n",
       "      <td>0</td>\n",
       "      <td>0</td>\n",
       "      <td>0</td>\n",
       "      <td>0</td>\n",
       "      <td>0</td>\n",
       "      <td>0</td>\n",
       "      <td>0</td>\n",
       "      <td>0</td>\n",
       "      <td>0</td>\n",
       "      <td>0</td>\n",
       "      <td>0</td>\n",
       "      <td>0</td>\n",
       "      <td>0</td>\n",
       "      <td>0</td>\n",
       "      <td>0</td>\n",
       "      <td>0</td>\n",
       "      <td>0</td>\n",
       "      <td>0</td>\n",
       "      <td>0</td>\n",
       "      <td>0</td>\n",
       "      <td>0</td>\n",
       "      <td>0</td>\n",
       "      <td>0</td>\n",
       "      <td>0</td>\n",
       "      <td>0</td>\n",
       "      <td>0</td>\n",
       "      <td>0</td>\n",
       "      <td>1</td>\n",
       "      <td>0</td>\n",
       "      <td>3</td>\n",
       "      <td>1</td>\n",
       "      <td>8</td>\n",
       "      <td>2</td>\n",
       "      <td>0</td>\n",
       "      <td>0</td>\n",
       "      <td>0</td>\n",
       "      <td>0</td>\n",
       "      <td>0</td>\n",
       "      <td>0</td>\n",
       "      <td>0</td>\n",
       "      <td>0</td>\n",
       "      <td>0</td>\n",
       "      <td>0</td>\n",
       "      <td>2</td>\n",
       "      <td>6</td>\n",
       "      <td></td>\n",
       "      <td></td>\n",
       "      <td></td>\n",
       "      <td></td>\n",
       "      <td></td>\n",
       "      <td>1</td>\n",
       "      <td>4</td>\n",
       "    </tr>\n",
       "    <tr>\n",
       "      <th>996</th>\n",
       "      <td>1.011270</td>\n",
       "      <td>1</td>\n",
       "      <td>1</td>\n",
       "      <td>31</td>\n",
       "      <td>7</td>\n",
       "      <td>4</td>\n",
       "      <td>4</td>\n",
       "      <td>4</td>\n",
       "      <td>1</td>\n",
       "      <td>8</td>\n",
       "      <td>5</td>\n",
       "      <td>1</td>\n",
       "      <td>4</td>\n",
       "      <td>8</td>\n",
       "      <td>8</td>\n",
       "      <td>2</td>\n",
       "      <td>2</td>\n",
       "      <td>1</td>\n",
       "      <td>2</td>\n",
       "      <td>1</td>\n",
       "      <td>2</td>\n",
       "      <td>1</td>\n",
       "      <td>2</td>\n",
       "      <td>3</td>\n",
       "      <td>2</td>\n",
       "      <td>1</td>\n",
       "      <td>1</td>\n",
       "      <td>2</td>\n",
       "      <td>1</td>\n",
       "      <td>1</td>\n",
       "      <td>1</td>\n",
       "      <td>3</td>\n",
       "      <td>2</td>\n",
       "      <td>3</td>\n",
       "      <td>3</td>\n",
       "      <td>3</td>\n",
       "      <td>3</td>\n",
       "      <td>3</td>\n",
       "      <td>2</td>\n",
       "      <td>2</td>\n",
       "      <td>2</td>\n",
       "      <td>2</td>\n",
       "      <td>2</td>\n",
       "      <td>2</td>\n",
       "      <td>2</td>\n",
       "      <td>2</td>\n",
       "      <td>2</td>\n",
       "      <td>2</td>\n",
       "      <td>1</td>\n",
       "      <td>2</td>\n",
       "      <td>2</td>\n",
       "      <td>2</td>\n",
       "      <td></td>\n",
       "      <td></td>\n",
       "      <td></td>\n",
       "      <td></td>\n",
       "      <td></td>\n",
       "      <td></td>\n",
       "      <td></td>\n",
       "      <td></td>\n",
       "      <td></td>\n",
       "      <td></td>\n",
       "      <td></td>\n",
       "      <td></td>\n",
       "      <td></td>\n",
       "      <td>2</td>\n",
       "      <td>2</td>\n",
       "      <td>2</td>\n",
       "      <td>3</td>\n",
       "      <td>3</td>\n",
       "      <td>2</td>\n",
       "      <td>2</td>\n",
       "      <td>2</td>\n",
       "      <td>3</td>\n",
       "      <td>3</td>\n",
       "      <td>2</td>\n",
       "      <td>3</td>\n",
       "      <td>2</td>\n",
       "      <td>0</td>\n",
       "      <td>0</td>\n",
       "      <td>0</td>\n",
       "      <td>0</td>\n",
       "      <td>0</td>\n",
       "      <td>0</td>\n",
       "      <td>0</td>\n",
       "      <td>0</td>\n",
       "      <td>0</td>\n",
       "      <td>0</td>\n",
       "      <td>0</td>\n",
       "      <td>0</td>\n",
       "      <td>0</td>\n",
       "      <td>0</td>\n",
       "      <td>0</td>\n",
       "      <td>0</td>\n",
       "      <td>0</td>\n",
       "      <td>0</td>\n",
       "      <td>0</td>\n",
       "      <td>0</td>\n",
       "      <td>0</td>\n",
       "      <td>0</td>\n",
       "      <td>0</td>\n",
       "      <td>0</td>\n",
       "      <td>0</td>\n",
       "      <td>0</td>\n",
       "      <td>0</td>\n",
       "      <td>0</td>\n",
       "      <td>0</td>\n",
       "      <td>0</td>\n",
       "      <td>1</td>\n",
       "      <td>3</td>\n",
       "      <td>2</td>\n",
       "      <td>6</td>\n",
       "      <td>2</td>\n",
       "      <td>0</td>\n",
       "      <td>0</td>\n",
       "      <td>0</td>\n",
       "      <td>0</td>\n",
       "      <td>0</td>\n",
       "      <td>0</td>\n",
       "      <td>0</td>\n",
       "      <td>0</td>\n",
       "      <td>0</td>\n",
       "      <td>0</td>\n",
       "      <td>1</td>\n",
       "      <td>2</td>\n",
       "      <td></td>\n",
       "      <td></td>\n",
       "      <td></td>\n",
       "      <td></td>\n",
       "      <td>1</td>\n",
       "      <td></td>\n",
       "      <td>4</td>\n",
       "    </tr>\n",
       "    <tr>\n",
       "      <th>997</th>\n",
       "      <td>0.897881</td>\n",
       "      <td>1</td>\n",
       "      <td>4</td>\n",
       "      <td>45</td>\n",
       "      <td>2</td>\n",
       "      <td>2</td>\n",
       "      <td>1</td>\n",
       "      <td>4</td>\n",
       "      <td>3</td>\n",
       "      <td>7</td>\n",
       "      <td>5</td>\n",
       "      <td>7</td>\n",
       "      <td>1</td>\n",
       "      <td>7</td>\n",
       "      <td>7</td>\n",
       "      <td>2</td>\n",
       "      <td>2</td>\n",
       "      <td>2</td>\n",
       "      <td>2</td>\n",
       "      <td>2</td>\n",
       "      <td>2</td>\n",
       "      <td>2</td>\n",
       "      <td>2</td>\n",
       "      <td>2</td>\n",
       "      <td>3</td>\n",
       "      <td>2</td>\n",
       "      <td>2</td>\n",
       "      <td>2</td>\n",
       "      <td>2</td>\n",
       "      <td>2</td>\n",
       "      <td>2</td>\n",
       "      <td>2</td>\n",
       "      <td>2</td>\n",
       "      <td>2</td>\n",
       "      <td>3</td>\n",
       "      <td>3</td>\n",
       "      <td>2</td>\n",
       "      <td>2</td>\n",
       "      <td>2</td>\n",
       "      <td>2</td>\n",
       "      <td>2</td>\n",
       "      <td>2</td>\n",
       "      <td>2</td>\n",
       "      <td>2</td>\n",
       "      <td>2</td>\n",
       "      <td>3</td>\n",
       "      <td>2</td>\n",
       "      <td>2</td>\n",
       "      <td>2</td>\n",
       "      <td>2</td>\n",
       "      <td>2</td>\n",
       "      <td>2</td>\n",
       "      <td>2</td>\n",
       "      <td>2</td>\n",
       "      <td>3</td>\n",
       "      <td>2</td>\n",
       "      <td>2</td>\n",
       "      <td>2</td>\n",
       "      <td>2</td>\n",
       "      <td>2</td>\n",
       "      <td>2</td>\n",
       "      <td>2</td>\n",
       "      <td>2</td>\n",
       "      <td>2</td>\n",
       "      <td>2</td>\n",
       "      <td></td>\n",
       "      <td></td>\n",
       "      <td></td>\n",
       "      <td></td>\n",
       "      <td></td>\n",
       "      <td></td>\n",
       "      <td></td>\n",
       "      <td></td>\n",
       "      <td></td>\n",
       "      <td></td>\n",
       "      <td></td>\n",
       "      <td></td>\n",
       "      <td></td>\n",
       "      <td>0</td>\n",
       "      <td>0</td>\n",
       "      <td>0</td>\n",
       "      <td>0</td>\n",
       "      <td>0</td>\n",
       "      <td>0</td>\n",
       "      <td>0</td>\n",
       "      <td>0</td>\n",
       "      <td>0</td>\n",
       "      <td>0</td>\n",
       "      <td>0</td>\n",
       "      <td>0</td>\n",
       "      <td>0</td>\n",
       "      <td>0</td>\n",
       "      <td>0</td>\n",
       "      <td>0</td>\n",
       "      <td>0</td>\n",
       "      <td>0</td>\n",
       "      <td>0</td>\n",
       "      <td>0</td>\n",
       "      <td>0</td>\n",
       "      <td>0</td>\n",
       "      <td>0</td>\n",
       "      <td>0</td>\n",
       "      <td>0</td>\n",
       "      <td>0</td>\n",
       "      <td>0</td>\n",
       "      <td>0</td>\n",
       "      <td>0</td>\n",
       "      <td>0</td>\n",
       "      <td>1</td>\n",
       "      <td>1</td>\n",
       "      <td>1</td>\n",
       "      <td>7</td>\n",
       "      <td>2</td>\n",
       "      <td>0</td>\n",
       "      <td>0</td>\n",
       "      <td>0</td>\n",
       "      <td>0</td>\n",
       "      <td>0</td>\n",
       "      <td>0</td>\n",
       "      <td>0</td>\n",
       "      <td>0</td>\n",
       "      <td>0</td>\n",
       "      <td>0</td>\n",
       "      <td>2</td>\n",
       "      <td>2</td>\n",
       "      <td>1</td>\n",
       "      <td>1</td>\n",
       "      <td></td>\n",
       "      <td></td>\n",
       "      <td></td>\n",
       "      <td></td>\n",
       "      <td>4</td>\n",
       "    </tr>\n",
       "    <tr>\n",
       "      <th>998</th>\n",
       "      <td>1.005064</td>\n",
       "      <td>2</td>\n",
       "      <td>3</td>\n",
       "      <td>33</td>\n",
       "      <td>7</td>\n",
       "      <td>4</td>\n",
       "      <td>4</td>\n",
       "      <td>1</td>\n",
       "      <td>1</td>\n",
       "      <td>1</td>\n",
       "      <td>3</td>\n",
       "      <td>1</td>\n",
       "      <td>4</td>\n",
       "      <td>5</td>\n",
       "      <td>5</td>\n",
       "      <td>1</td>\n",
       "      <td>2</td>\n",
       "      <td>2</td>\n",
       "      <td>2</td>\n",
       "      <td>2</td>\n",
       "      <td>2</td>\n",
       "      <td>2</td>\n",
       "      <td>3</td>\n",
       "      <td>2</td>\n",
       "      <td>3</td>\n",
       "      <td>1</td>\n",
       "      <td>1</td>\n",
       "      <td>1</td>\n",
       "      <td>1</td>\n",
       "      <td>2</td>\n",
       "      <td>1</td>\n",
       "      <td>2</td>\n",
       "      <td>2</td>\n",
       "      <td>4</td>\n",
       "      <td>3</td>\n",
       "      <td>4</td>\n",
       "      <td>3</td>\n",
       "      <td>3</td>\n",
       "      <td>3</td>\n",
       "      <td>2</td>\n",
       "      <td>3</td>\n",
       "      <td>2</td>\n",
       "      <td>2</td>\n",
       "      <td>2</td>\n",
       "      <td>3</td>\n",
       "      <td>2</td>\n",
       "      <td>1</td>\n",
       "      <td>3</td>\n",
       "      <td>2</td>\n",
       "      <td>2</td>\n",
       "      <td>1</td>\n",
       "      <td>2</td>\n",
       "      <td>2</td>\n",
       "      <td>2</td>\n",
       "      <td>2</td>\n",
       "      <td>2</td>\n",
       "      <td>2</td>\n",
       "      <td>2</td>\n",
       "      <td>1</td>\n",
       "      <td>2</td>\n",
       "      <td>2</td>\n",
       "      <td>2</td>\n",
       "      <td>2</td>\n",
       "      <td>2</td>\n",
       "      <td>2</td>\n",
       "      <td></td>\n",
       "      <td></td>\n",
       "      <td></td>\n",
       "      <td></td>\n",
       "      <td></td>\n",
       "      <td></td>\n",
       "      <td></td>\n",
       "      <td></td>\n",
       "      <td></td>\n",
       "      <td></td>\n",
       "      <td></td>\n",
       "      <td></td>\n",
       "      <td></td>\n",
       "      <td>0</td>\n",
       "      <td>0</td>\n",
       "      <td>0</td>\n",
       "      <td>0</td>\n",
       "      <td>0</td>\n",
       "      <td>0</td>\n",
       "      <td>0</td>\n",
       "      <td>0</td>\n",
       "      <td>0</td>\n",
       "      <td>0</td>\n",
       "      <td>0</td>\n",
       "      <td>0</td>\n",
       "      <td>0</td>\n",
       "      <td>0</td>\n",
       "      <td>0</td>\n",
       "      <td>0</td>\n",
       "      <td>0</td>\n",
       "      <td>0</td>\n",
       "      <td>0</td>\n",
       "      <td>0</td>\n",
       "      <td>0</td>\n",
       "      <td>0</td>\n",
       "      <td>0</td>\n",
       "      <td>0</td>\n",
       "      <td>0</td>\n",
       "      <td>0</td>\n",
       "      <td>0</td>\n",
       "      <td>0</td>\n",
       "      <td>0</td>\n",
       "      <td>0</td>\n",
       "      <td>1</td>\n",
       "      <td>1</td>\n",
       "      <td>1</td>\n",
       "      <td>1</td>\n",
       "      <td>2</td>\n",
       "      <td>0</td>\n",
       "      <td>0</td>\n",
       "      <td>0</td>\n",
       "      <td>0</td>\n",
       "      <td>0</td>\n",
       "      <td>0</td>\n",
       "      <td>0</td>\n",
       "      <td>0</td>\n",
       "      <td>0</td>\n",
       "      <td>0</td>\n",
       "      <td>2</td>\n",
       "      <td>6</td>\n",
       "      <td></td>\n",
       "      <td></td>\n",
       "      <td></td>\n",
       "      <td></td>\n",
       "      <td></td>\n",
       "      <td></td>\n",
       "      <td>3</td>\n",
       "    </tr>\n",
       "    <tr>\n",
       "      <th>999</th>\n",
       "      <td>0.823534</td>\n",
       "      <td>2</td>\n",
       "      <td>5</td>\n",
       "      <td>78</td>\n",
       "      <td>1</td>\n",
       "      <td>1</td>\n",
       "      <td>1</td>\n",
       "      <td>1</td>\n",
       "      <td>1</td>\n",
       "      <td>7</td>\n",
       "      <td>2</td>\n",
       "      <td>7</td>\n",
       "      <td>1</td>\n",
       "      <td>7</td>\n",
       "      <td>7</td>\n",
       "      <td>2</td>\n",
       "      <td>1</td>\n",
       "      <td>2</td>\n",
       "      <td>2</td>\n",
       "      <td>2</td>\n",
       "      <td>2</td>\n",
       "      <td>2</td>\n",
       "      <td>2</td>\n",
       "      <td>2</td>\n",
       "      <td>1</td>\n",
       "      <td>1</td>\n",
       "      <td>2</td>\n",
       "      <td>2</td>\n",
       "      <td>2</td>\n",
       "      <td>2</td>\n",
       "      <td>2</td>\n",
       "      <td>2</td>\n",
       "      <td>2</td>\n",
       "      <td>2</td>\n",
       "      <td>3</td>\n",
       "      <td>3</td>\n",
       "      <td>3</td>\n",
       "      <td>2</td>\n",
       "      <td>3</td>\n",
       "      <td>2</td>\n",
       "      <td>2</td>\n",
       "      <td>1</td>\n",
       "      <td>4</td>\n",
       "      <td>2</td>\n",
       "      <td>2</td>\n",
       "      <td>2</td>\n",
       "      <td>2</td>\n",
       "      <td>3</td>\n",
       "      <td>5</td>\n",
       "      <td>2</td>\n",
       "      <td>5</td>\n",
       "      <td>5</td>\n",
       "      <td></td>\n",
       "      <td></td>\n",
       "      <td></td>\n",
       "      <td></td>\n",
       "      <td></td>\n",
       "      <td></td>\n",
       "      <td></td>\n",
       "      <td></td>\n",
       "      <td></td>\n",
       "      <td></td>\n",
       "      <td></td>\n",
       "      <td></td>\n",
       "      <td></td>\n",
       "      <td>2</td>\n",
       "      <td>3</td>\n",
       "      <td>3</td>\n",
       "      <td>2</td>\n",
       "      <td>3</td>\n",
       "      <td>2</td>\n",
       "      <td>2</td>\n",
       "      <td>3</td>\n",
       "      <td>2</td>\n",
       "      <td>3</td>\n",
       "      <td>3</td>\n",
       "      <td>2</td>\n",
       "      <td>3</td>\n",
       "      <td>0</td>\n",
       "      <td>0</td>\n",
       "      <td>0</td>\n",
       "      <td>0</td>\n",
       "      <td>0</td>\n",
       "      <td>0</td>\n",
       "      <td>0</td>\n",
       "      <td>0</td>\n",
       "      <td>0</td>\n",
       "      <td>0</td>\n",
       "      <td>0</td>\n",
       "      <td>0</td>\n",
       "      <td>0</td>\n",
       "      <td>0</td>\n",
       "      <td>0</td>\n",
       "      <td>0</td>\n",
       "      <td>0</td>\n",
       "      <td>0</td>\n",
       "      <td>0</td>\n",
       "      <td>0</td>\n",
       "      <td>0</td>\n",
       "      <td>0</td>\n",
       "      <td>0</td>\n",
       "      <td>0</td>\n",
       "      <td>0</td>\n",
       "      <td>0</td>\n",
       "      <td>0</td>\n",
       "      <td>0</td>\n",
       "      <td>0</td>\n",
       "      <td>0</td>\n",
       "      <td>1</td>\n",
       "      <td>3</td>\n",
       "      <td>2</td>\n",
       "      <td>1</td>\n",
       "      <td>2</td>\n",
       "      <td>0</td>\n",
       "      <td>0</td>\n",
       "      <td>0</td>\n",
       "      <td>0</td>\n",
       "      <td>0</td>\n",
       "      <td>0</td>\n",
       "      <td>0</td>\n",
       "      <td>0</td>\n",
       "      <td>0</td>\n",
       "      <td>0</td>\n",
       "      <td>2</td>\n",
       "      <td>6</td>\n",
       "      <td></td>\n",
       "      <td></td>\n",
       "      <td></td>\n",
       "      <td></td>\n",
       "      <td></td>\n",
       "      <td></td>\n",
       "      <td>2</td>\n",
       "    </tr>\n",
       "  </tbody>\n",
       "</table>\n",
       "<p>1000 rows × 132 columns</p>\n",
       "</div>"
      ],
      "text/plain": [
       "          PSD  GENDER  QAGE  DEP  REGION9  UDA5  AGGLO  HHSIZE12  MARITALL  \\\n",
       "0    0.916463       2     4   94        1     1      5         2         1   \n",
       "1    0.898158       1     5   83        9     5      3         3         3   \n",
       "2    0.837896       2     1   44        5     2      4         2         7   \n",
       "3    1.013456       2     3   92        1     1      5         4         7   \n",
       "4    0.869873       1     2    9        7     4      1         1         1   \n",
       "..        ...     ...   ...  ...      ...   ...    ...       ...       ...   \n",
       "995  0.841224       2     1   42        8     5      1         4         2   \n",
       "996  1.011270       1     1   31        7     4      4         4         1   \n",
       "997  0.897881       1     4   45        2     2      1         4         3   \n",
       "998  1.005064       2     3   33        7     4      4         1         1   \n",
       "999  0.823534       2     5   78        1     1      1         1         1   \n",
       "\n",
       "     EMP01  FR02EDU  FR02EMPHI  MKTSIZE  PCSC8  PCSI8  Q1L  Q2L  Q3L_0  Q3L_1  \\\n",
       "0        1        7          1        5      3      3    2    2      2      2   \n",
       "1        7        3          7        3      7      7    1    1      1      1   \n",
       "2        1        4          1        4      5      5    2    2      2      2   \n",
       "3        2        5          2        5      4      4    2    2      2      2   \n",
       "4        1        6          1        1      5      5    3    4      4      4   \n",
       "..     ...      ...        ...      ...    ...    ...  ...  ...    ...    ...   \n",
       "995      1        5          7        1      5      5    3    3      4      4   \n",
       "996      8        5          1        4      8      8    2    2      1      2   \n",
       "997      7        5          7        1      7      7    2    2      2      2   \n",
       "998      1        3          1        4      5      5    1    2      2      2   \n",
       "999      7        2          7        1      7      7    2    1      2      2   \n",
       "\n",
       "     Q3L_2  Q3L_3  Q3L_4  Q3L_5  Q3L_6  Q3L_7  Q4L_0  Q4L_1  Q4L_2  Q4L_3  \\\n",
       "0        2      2      2      2      2      2      2      2      2      2   \n",
       "1        1      2      2      1      3      3      1      2      2      2   \n",
       "2        2      2      2      2      2      2      2      2      2      2   \n",
       "3        2      2      2      2      3      1      2      2      2      2   \n",
       "4        4      4      4      4      4      4      4      4      4      4   \n",
       "..     ...    ...    ...    ...    ...    ...    ...    ...    ...    ...   \n",
       "995      4      4      4      4      3      1      4      2      4      4   \n",
       "996      1      2      1      2      3      2      1      1      2      1   \n",
       "997      2      2      2      2      2      3      2      2      2      2   \n",
       "998      2      2      2      3      2      3      1      1      1      1   \n",
       "999      2      2      2      2      2      1      1      2      2      2   \n",
       "\n",
       "     Q4L_4  Q4L_5  Q4L_6  Q4L_7  Q4L_8  Q4L_9  Q4L_10  Q4L_11  Q4L_12  Q4L_13  \\\n",
       "0        2      2      2      2      2      2       3       2       2       2   \n",
       "1        3      2      2      2      3      4       4       3       4       4   \n",
       "2        3      2      3      2      3      3       3       3       3       3   \n",
       "3        3      2      2      2      2      4       3       2       3       3   \n",
       "4        4      4      3      4      4      4       4       3       4       4   \n",
       "..     ...    ...    ...    ...    ...    ...     ...     ...     ...     ...   \n",
       "995      4      2      4      3      4      4       4       4       4       4   \n",
       "996      1      1      3      2      3      3       3       3       3       2   \n",
       "997      2      2      2      2      2      3       3       2       2       2   \n",
       "998      2      1      2      2      4      3       4       3       3       3   \n",
       "999      2      2      2      2      2      3       3       3       2       3   \n",
       "\n",
       "     Q4L_14  Q4L_15  Q4L_16  Q5L_0  Q5L_1  Q5L_2  Q5L_3  Q5L_4  Q5L_5  Q5L_6  \\\n",
       "0         1       2       2      2      3      2      2      2      2      3   \n",
       "1         4       3       1      4      4      4      4      3      4      4   \n",
       "2         2       3       3      3      2      3      2      3      2      2   \n",
       "3         4       3       3      4      3      4      3      2      4      3   \n",
       "4         4       4       4      5      5      5      5      5      5      5   \n",
       "..      ...     ...     ...    ...    ...    ...    ...    ...    ...    ...   \n",
       "995       1       4       4      4      4      4      4      4      4      4   \n",
       "996       2       2       2      2      2      2      2      2      2      1   \n",
       "997       2       2       2      2      2      2      3      2      2      2   \n",
       "998       2       3       2      2      2      3      2      1      3      2   \n",
       "999       2       2       1      4      2      2      2      2      3      5   \n",
       "\n",
       "     Q5L_7  Q5L_8  Q5L_9 Q6AL_0 Q6AL_1 Q6AL_2 Q6AL_3 Q6AL_4 Q6AL_5 Q6AL_6  \\\n",
       "0        2      2      2      2      2      2      2      3      2      2   \n",
       "1        4      4      4                                                    \n",
       "2        2      3      2                                                    \n",
       "3        3      4      2      2      2      2      3      2      2      2   \n",
       "4        5      5      5                                                    \n",
       "..     ...    ...    ...    ...    ...    ...    ...    ...    ...    ...   \n",
       "995      4      4      4      3      3      3      3      3      3      3   \n",
       "996      2      2      2                                                    \n",
       "997      2      2      2      2      2      3      2      2      2      2   \n",
       "998      2      1      2      2      2      2      2      2      2      1   \n",
       "999      2      5      5                                                    \n",
       "\n",
       "    Q6AL_7 Q6AL_8 Q6AL_9 Q6AL_10 Q6AL_11 Q6AL_12 Q6BL_0 Q6BL_1 Q6BL_2 Q6BL_3  \\\n",
       "0        2      2      2       2       3       3                               \n",
       "1                                                     4      3      4      4   \n",
       "2                                                     2      3      1      3   \n",
       "3        2      3      3       2       3       3                               \n",
       "4                                                     4      4      4      4   \n",
       "..     ...    ...    ...     ...     ...     ...    ...    ...    ...    ...   \n",
       "995      3      3      3       3       3       3                               \n",
       "996                                                   2      2      2      3   \n",
       "997      2      2      2       2       2       2                               \n",
       "998      2      2      2       2       2       2                               \n",
       "999                                                   2      3      3      2   \n",
       "\n",
       "    Q6BL_4 Q6BL_5 Q6BL_6 Q6BL_7 Q6BL_8 Q6BL_9 Q6BL_10 Q6BL_11 Q6BL_12  Q7O_0  \\\n",
       "0                                                                          0   \n",
       "1        4      4      4      4      4      4       4       4       4      0   \n",
       "2        3      2      2      2      3      3       3       4       3      0   \n",
       "3                                                                          0   \n",
       "4        4      4      4      4      4      4       4       4       4      0   \n",
       "..     ...    ...    ...    ...    ...    ...     ...     ...     ...    ...   \n",
       "995                                                                        0   \n",
       "996      3      2      2      2      3      3       2       3       2      0   \n",
       "997                                                                        0   \n",
       "998                                                                        0   \n",
       "999      3      2      2      3      2      3       3       2       3      0   \n",
       "\n",
       "     Q7O_1  Q7O_2  Q7O_3  Q7O_4  Q7O_5  Q7O_6  Q7O_7  Q7O_8  Q7O_9  Q7O_10  \\\n",
       "0        0      0      0      0      0      0      0      0      0       0   \n",
       "1        0      0      0      0      0      0      0      0      0       0   \n",
       "2        0      0      0      0      0      0      0      0      0       0   \n",
       "3        0      0      0      0      0      0      0      0      0       0   \n",
       "4        0      0      0      0      0      0      0      0      0       0   \n",
       "..     ...    ...    ...    ...    ...    ...    ...    ...    ...     ...   \n",
       "995      0      0      0      0      0      0      0      0      0       0   \n",
       "996      0      0      0      0      0      0      0      0      0       0   \n",
       "997      0      0      0      0      0      0      0      0      0       0   \n",
       "998      0      0      0      0      0      0      0      0      0       0   \n",
       "999      0      0      0      0      0      0      0      0      0       0   \n",
       "\n",
       "     Q7O_11  Q7O_12  Q7O_13  Q7O_14  Q7O_15  Q7O_16  Q7O_17  Q7O_18  Q7O_19  \\\n",
       "0         0       0       0       0       0       0       0       0       0   \n",
       "1         0       0       0       0       0       0       0       0       0   \n",
       "2         0       0       0       0       0       0       0       0       0   \n",
       "3         0       0       1       0       0       1       0       0       0   \n",
       "4         0       0       0       0       0       0       0       0       0   \n",
       "..      ...     ...     ...     ...     ...     ...     ...     ...     ...   \n",
       "995       0       0       0       0       0       0       0       0       0   \n",
       "996       0       0       0       0       0       0       0       0       0   \n",
       "997       0       0       0       0       0       0       0       0       0   \n",
       "998       0       0       0       0       0       0       0       0       0   \n",
       "999       0       0       0       0       0       0       0       0       0   \n",
       "\n",
       "     Q7O_20  Q7O_21  Q7O_22  Q7O_23  Q7O_24  Q7O_25  Q7O_26  Q7O_27  Q7O_28  \\\n",
       "0         0       0       0       0       0       0       0       0       0   \n",
       "1         0       0       0       0       0       1       0       0       0   \n",
       "2         0       0       0       0       0       0       0       0       0   \n",
       "3         0       0       0       0       0       0       0       0       0   \n",
       "4         0       0       0       0       0       0       0       0       0   \n",
       "..      ...     ...     ...     ...     ...     ...     ...     ...     ...   \n",
       "995       0       0       0       0       0       0       0       0       0   \n",
       "996       0       0       0       0       0       0       0       0       0   \n",
       "997       0       0       0       0       0       0       0       0       0   \n",
       "998       0       0       0       0       0       0       0       0       0   \n",
       "999       0       0       0       0       0       0       0       0       0   \n",
       "\n",
       "     Q7O_29  Q7O_30  Q8  Q9L  RS1L  RS2  RS3_0  RS3_1  RS3_2  RS3_3  RS3_4  \\\n",
       "0         0       1   1    2     1    2      0      0      0      0      0   \n",
       "1         0       0   2    4     3    2      0      0      0      0      0   \n",
       "2         0       1   3    1     1    2      0      0      0      0      0   \n",
       "3         0       0   1    1     1    1      1      0      0      0      0   \n",
       "4         1       0   3    4     8    2      0      0      0      0      0   \n",
       "..      ...     ...  ..  ...   ...  ...    ...    ...    ...    ...    ...   \n",
       "995       1       0   3    1     8    2      0      0      0      0      0   \n",
       "996       0       1   3    2     6    2      0      0      0      0      0   \n",
       "997       0       1   1    1     7    2      0      0      0      0      0   \n",
       "998       0       1   1    1     1    2      0      0      0      0      0   \n",
       "999       0       1   3    2     1    2      0      0      0      0      0   \n",
       "\n",
       "     RS3_5  RS3_6  RS3_7  RS3_8  RS3_9  RS4  RS5L RS5BL_0 RS5BL_1 RS5BL_2  \\\n",
       "0        0      0      0      0      0    2     2                           \n",
       "1        0      0      0      0      0    2     6                           \n",
       "2        0      0      0      0      0    2     6                           \n",
       "3        1      0      0      0      0    1     2       1       1           \n",
       "4        0      0      0      0      0    2     6                           \n",
       "..     ...    ...    ...    ...    ...  ...   ...     ...     ...     ...   \n",
       "995      0      0      0      0      0    2     6                           \n",
       "996      0      0      0      0      0    1     2                           \n",
       "997      0      0      0      0      0    2     2       1       1           \n",
       "998      0      0      0      0      0    2     6                           \n",
       "999      0      0      0      0      0    2     6                           \n",
       "\n",
       "    RS5BL_3 RS5BL_4 INCOME  EDUC  \n",
       "0                 1      4     6  \n",
       "1                        4     3  \n",
       "2                        3     3  \n",
       "3                        4     4  \n",
       "4                              5  \n",
       "..      ...     ...    ...   ...  \n",
       "995                      1     4  \n",
       "996               1            4  \n",
       "997                            4  \n",
       "998                            3  \n",
       "999                            2  \n",
       "\n",
       "[1000 rows x 132 columns]"
      ]
     },
     "execution_count": 580,
     "metadata": {},
     "output_type": "execute_result"
    }
   ],
   "source": [
    "data"
   ]
  },
  {
   "cell_type": "code",
   "execution_count": 581,
   "metadata": {},
   "outputs": [],
   "source": [
    "list_indeps = ['GENDER', 'QAGE', 'REGION9', 'AGGLO', 'HHSIZE12', 'EMP01', 'PCSC8', 'PCSI8', 'MARITALL', 'FR02EDU', 'EDUC', 'Q1L', 'Q2L'\n",
    "              , 'Q3L_0', 'Q3L_1', 'Q3L_2', 'Q3L_3', 'Q3L_4', 'Q3L_5', 'Q3L_6', 'Q3L_7', 'Q4L_0', 'Q4L_1', 'Q4L_2', 'Q4L_3'\n",
    "              , 'Q4L_4', 'Q4L_5', 'Q4L_6', 'Q4L_7', 'Q4L_8','Q4L_9', 'Q4L_10', 'Q4L_11', 'Q4L_12', 'Q4L_13', 'Q4L_14', 'Q4L_15'\n",
    "              , 'Q4L_16', 'Q5L_4', 'Q6AL_0', 'Q6AL_1', 'Q6AL_2', 'Q6AL_3', 'Q6AL_4', 'Q6AL_5', 'Q6AL_6', 'Q6AL_7', 'Q6AL_8', 'Q6AL_9'\n",
    "              , 'Q6AL_10', 'Q6AL_11', 'Q6AL_12', 'Q8', 'Q9L', 'RS1L', 'RS2', 'RS3_0', 'RS3_1', 'RS3_2', 'RS3_3', 'RS3_4', 'RS3_5'\n",
    "              , 'RS3_6', 'RS3_7', 'RS3_8', 'RS3_9', 'RS4', 'RS5L', 'RS5BL_0', 'RS5BL_1', 'RS5BL_2', 'RS5BL_3', 'RS5BL_4', 'INCOME']\n",
    "\n",
    "questions_variables = {'GENDER' : \"Etes-vous ?\", 'QAGE' : \"Groupe d'ages\", 'REGION9' : \"Région\", 'AGGLO' : \"Agglomération\", 'HHSIZE12' : \"Combien de personnes habitent ou vivent à votre adresse actuelle? (, y compris vous-même et tous les enfants vivant ou habitant à cette adresse, et ce, depuis au moins deux mois)\"\n",
    "                      , 'EMP01' : \"Quelle est votre situation professionnelle actuelle ?\", 'PCSC8' : \"PCS Chef de famille\",  'PCSI8' : \"PCS Interviewé\", 'MARITALL' : \"Situation maritale\", 'FR02EDU' : \"Quel est le niveau d’études le plus élevé que vous ayez atteint?\"\n",
    "                      , 'EDUC' : \"Niveau d'éducation\",  'Q1L' : \"Faites-vous tout à fait confiance, plutôt confiance, plutôt pas confiance ou pas du tout confiance aux médicaments ?\"\n",
    "                      , 'Q2L' : \"Et faites-vous tout à fait confiance, plutôt confiance, plutôt pas confiance ou pas du tout confiance aux médicaments que vous prenez ?\"\n",
    "                      , 'Q3L_0' : \"Pour chacun des types de médicaments suivants, lui faites-vous tout à fait confiance, plutôt confiance, plutôt pas confiance ou pas du tout confiance ? Les médicaments sur ordonnance\"\n",
    "                      , 'Q3L_1' : \"Pour chacun des types de médicaments suivants, lui faites-vous tout à fait confiance, plutôt confiance, plutôt pas confiance ou pas du tout confiance ? Les médicaments sans ordonnance\"\n",
    "                      , 'Q3L_2' : \"Pour chacun des types de médicaments suivants, lui faites-vous tout à fait confiance, plutôt confiance, plutôt pas confiance ou pas du tout confiance ? Les médicaments remboursés\"\n",
    "                      , 'Q3L_3' : \"Pour chacun des types de médicaments suivants, lui faites-vous tout à fait confiance, plutôt confiance, plutôt pas confiance ou pas du tout confiance ? Les médicaments non remboursés\"\n",
    "                      , 'Q3L_4' : \"Pour chacun des types de médicaments suivants, lui faites-vous tout à fait confiance, plutôt confiance, plutôt pas confiance ou pas du tout confiance ? Les médicaments de marque\"\n",
    "                      , 'Q3L_5' : \"Pour chacun des types de médicaments suivants, lui faites-vous tout à fait confiance, plutôt confiance, plutôt pas confiance ou pas du tout confiance ? Les médicaments génériques\"\n",
    "                      , 'Q3L_6' : \"Pour chacun des types de médicaments suivants, lui faites-vous tout à fait confiance, plutôt confiance, plutôt pas confiance ou pas du tout confiance ? Les vaccins\"\n",
    "                      , 'Q3L_7' : \"Pour chacun des types de médicaments suivants, lui faites-vous tout à fait confiance, plutôt confiance, plutôt pas confiance ou pas du tout confiance ? L’homéopathie\"\n",
    "                      , 'Q4L_0' : \"En matière d’information sur les médicaments, diriez-vous que vous faites personnellement tout à fait confiance, plutôt confiance, plutôt pas confiance ou pas du tout confiance : A votre médecin traitant\"\n",
    "                      , 'Q4L_1' : \"En matière d’information sur les médicaments, diriez-vous que vous faites personnellement tout à fait confiance, plutôt confiance, plutôt pas confiance ou pas du tout confiance : Aux médecins spécialsites\"\n",
    "                      , 'Q4L_2' : \"En matière d’information sur les médicaments, diriez-vous que vous faites personnellement tout à fait confiance, plutôt confiance, plutôt pas confiance ou pas du tout confiance : Aux pharmaciens\"\n",
    "                      , 'Q4L_3' : \"En matière d’information sur les médicaments, diriez-vous que vous faites personnellement tout à fait confiance, plutôt confiance, plutôt pas confiance ou pas du tout confiance : Aux infirmières\"\n",
    "                      , 'Q4L_4' : \"En matière d’information sur les médicaments, diriez-vous que vous faites personnellement tout à fait confiance, plutôt confiance, plutôt pas confiance ou pas du tout confiance : Aux autorités de santé/Aux pouvoirs publics\"\n",
    "                      , 'Q4L_5' : \"En matière d’information sur les médicaments, diriez-vous que vous faites personnellement tout à fait confiance, plutôt confiance, plutôt pas confiance ou pas du tout confiance : Aux chercheurs\"\n",
    "                      , 'Q4L_6' : \"En matière d’information sur les médicaments, diriez-vous que vous faites personnellement tout à fait confiance, plutôt confiance, plutôt pas confiance ou pas du tout confiance : Aux associations\"\n",
    "                      , 'Q4L_7' : \"En matière d’information sur les médicaments, diriez-vous que vous faites personnellement tout à fait confiance, plutôt confiance, plutôt pas confiance ou pas du tout confiance : Aux notices des médicaments\"\n",
    "                      , 'Q4L_8' : \"En matière d’information sur les médicaments, diriez-vous que vous faites personnellement tout à fait confiance, plutôt confiance, plutôt pas confiance ou pas du tout confiance : Aux laboratoires pharmaceutiques\"\n",
    "                      , 'Q4L_9' : \"En matière d’information sur les médicaments, diriez-vous que vous faites personnellement tout à fait confiance, plutôt confiance, plutôt pas confiance ou pas du tout confiance : Aux responsables politiques\"\n",
    "                      , 'Q4L_10' : \"En matière d’information sur les médicaments, diriez-vous que vous faites personnellement tout à fait confiance, plutôt confiance, plutôt pas confiance ou pas du tout confiance : A internet\"\n",
    "                      , 'Q4L_11' : \"En matière d’information sur les médicaments, diriez-vous que vous faites personnellement tout à fait confiance, plutôt confiance, plutôt pas confiance ou pas du tout confiance : A la presse écrite\"\n",
    "                      , 'Q4L_12' : \"En matière d’information sur les médicaments, diriez-vous que vous faites personnellement tout à fait confiance, plutôt confiance, plutôt pas confiance ou pas du tout confiance : A la television\"\n",
    "                      , 'Q4L_13' : \"En matière d’information sur les médicaments, diriez-vous que vous faites personnellement tout à fait confiance, plutôt confiance, plutôt pas confiance ou pas du tout confiance : A la radio\"\n",
    "                      , 'Q4L_14' : \"En matière d’information sur les médicaments, diriez-vous que vous faites personnellement tout à fait confiance, plutôt confiance, plutôt pas confiance ou pas du tout confiance : A votre entourage\"\n",
    "                      , 'Q4L_15' : \"En matière d’information sur les médicaments, diriez-vous que vous faites personnellement tout à fait confiance, plutôt confiance, plutôt pas confiance ou pas du tout confiance : Aux livres publiés sur les medicaments\"\n",
    "                      , 'Q4L_16' : \"En matière d’information sur les médicaments, diriez-vous que vous faites personnellement tout à fait confiance, plutôt confiance, plutôt pas confiance ou pas du tout confiance : Aux lanceurs d’alerte de l’opinion publique\"\n",
    "                      , 'Q5L_4' : \"Diriez-vous que vous avez tout à fait, plutôt, plutôt pas ou pas du tout confiance dans les entreprises du secteur : Du médicament\"\n",
    "                      , 'Q6AL_0' : \"Parmi la liste suivante, veuillez indiquer pour chaque mention si elle correspond tout à fait, plutôt, plutôt pas ou pas du tout à l’image que vous avez des entreprises du médicament: Les entreprises du médicament sont… Utiles\"\n",
    "                      , 'Q6AL_1' : \"Parmi la liste suivante, veuillez indiquer pour chaque mention si elle correspond tout à fait, plutôt, plutôt pas ou pas du tout à l’image que vous avez des entreprises du médicament: Les entreprises du médicament sont… Ouvertes au changement\"\n",
    "                      , 'Q6AL_2' : \"Parmi la liste suivante, veuillez indiquer pour chaque mention si elle correspond tout à fait, plutôt, plutôt pas ou pas du tout à l’image que vous avez des entreprises du médicament: Les entreprises du médicament sont… Opaques\"\n",
    "                      , 'Q6AL_3' : \"Parmi la liste suivante, veuillez indiquer pour chaque mention si elle correspond tout à fait, plutôt, plutôt pas ou pas du tout à l’image que vous avez des entreprises du médicament: Les entreprises du médicament sont… Honnêtes\"\n",
    "                      , 'Q6AL_4' : \"Parmi la liste suivante, veuillez indiquer pour chaque mention si elle correspond tout à fait, plutôt, plutôt pas ou pas du tout à l’image que vous avez des entreprises du médicament: Les entreprises du médicament sont… Ethiques\"\n",
    "                      , 'Q6AL_5' : \"Parmi la liste suivante, veuillez indiquer pour chaque mention si elle correspond tout à fait, plutôt, plutôt pas ou pas du tout à l’image que vous avez des entreprises du médicament: Les entreprises du médicament sont… Efficaces\"\n",
    "                      , 'Q6AL_6' : \"Parmi la liste suivante, veuillez indiquer pour chaque mention si elle correspond tout à fait, plutôt, plutôt pas ou pas du tout à l’image que vous avez des entreprises du médicament: Les entreprises du médicament sont… A la pointe du progrès\"\n",
    "                      , 'Q6AL_7' : \"Parmi la liste suivante, veuillez indiquer pour chaque mention si elle correspond tout à fait, plutôt, plutôt pas ou pas du tout à l’image que vous avez des entreprises du médicament: Les entreprises du médicament sont… Respectueuses de leurs salariés\"\n",
    "                      , 'Q6AL_8' : \"Parmi la liste suivante, veuillez indiquer pour chaque mention si elle correspond tout à fait, plutôt, plutôt pas ou pas du tout à l’image que vous avez des entreprises du médicament: Les entreprises du médicament sont… Crédibles\"\n",
    "                      , 'Q6AL_9' : \"Parmi la liste suivante, veuillez indiquer pour chaque mention si elle correspond tout à fait, plutôt, plutôt pas ou pas du tout à l’image que vous avez des entreprises du médicament: Les entreprises du médicament sont… Très encadrées par les pouvoirs publics\"\n",
    "                      , 'Q6AL_10' : \"Parmi la liste suivante, veuillez indiquer pour chaque mention si elle correspond tout à fait, plutôt, plutôt pas ou pas du tout à l’image que vous avez des entreprises du médicament: Les entreprises du médicament sont… Respectueuses des patients\"\n",
    "                      , 'Q6AL_11' : \"Parmi la liste suivante, veuillez indiquer pour chaque mention si elle correspond tout à fait, plutôt, plutôt pas ou pas du tout à l’image que vous avez des entreprises du médicament: Les entreprises du médicament sont… Transparentes\"\n",
    "                      , 'Q6AL_12' : \"Parmi la liste suivante, veuillez indiquer pour chaque mention si elle correspond tout à fait, plutôt, plutôt pas ou pas du tout à l’image que vous avez des entreprises du médicament: Les entreprises du médicament sont… Respectueuses de l’environnement\"\n",
    "                      , 'Q8' : \"Aujourd'hui concernant les vaccins en général, vous diriez qu'ils présentent pour la santé....\"\n",
    "                      , 'Q9L' : \"Aujourd'hui, vous savez si vous 'êtes à jour' concernant la vaccination, c'est-à-dire si vous avez reçu les vaccins recommandés en fonction de votre âge et de votre situation et avec le bon nombre d'injections nécessaires pour être protégé ?\"\n",
    "                      , 'RS1L' : \"A quelle fréquence prenez-vous des médicaments, qu’ils soient avec ou sans ordonnance\"\n",
    "                      , 'RS2' : \"Vous-même, souffrez-vous d’une ou plusieurs Affection(s) de Longue Durée (ALD), également appelée maladie(s) chronique(s) ou longue(s) maladie(s) ?\"\n",
    "                      , 'RS3_0' : \"De quelle(s) maladie(s) longue(s) souffrez-vous ? Rhumatologie (arthrose, polyarthrite rhumatoïde, spondylarthrite grave, ...)\"\n",
    "                      , 'RS3_1' : \"De quelle(s) maladie(s) longue(s) souffrez-vous ? Maladie cardiaque (insuffisance cardiaque, trouble du rythme, hypertension artérielle...)\"\n",
    "                      , 'RS3_2' : \"De quelle(s) maladie(s) longue(s) souffrez-vous ? Maladie infectieuse (VIH / sida,...)\"\n",
    "                      , 'RS3_3' : \"De quelle(s) maladie(s) longue(s) souffrez-vous ? Maladie neurologique (Maladie d’Alzheimer, Maladie de Parkinson, Sclérose en plaques, épilepsie...)\"\n",
    "                      , 'RS3_4' : \"De quelle(s) maladie(s) longue(s) souffrez-vous ? Maladie pneumologique (mucoviscidose, insuffisance respiratoire chronique grave, ...)\"\n",
    "                      , 'RS3_5' : \"De quelle(s) maladie(s) longue(s) souffrez-vous ? Maladie rénale (insuffisance rénale chronique, néphropathie chronique grave, ...)\"\n",
    "                      , 'RS3_6' : \"De quelle(s) maladie(s) longue(s) souffrez-vous ? Maladies du système digestif (maladie de Crohn, cirrhose du foie, hépatite, ...)\"\n",
    "                      , 'RS3_7' : \"De quelle(s) maladie(s) longue(s) souffrez-vous ? Dépression\", 'RS3_8' : \"De quelle(s) maladie(s) longue(s) souffrez-vous ? Cancer\"\n",
    "                      , 'RS3_9' : \"De quelle(s) maladie(s) longue(s) souffrez-vous ? Autres\", 'RS4' : \"Un de vos proches souffre-t-il ou a-t-il souffert d’une ALD/maladie chronique ou longue maladie… ?\"\n",
    "                      , 'RS5L' : \"Combien y a-t-il d’enfants (quel que soit leur âge) à charge des parents dans votre logement ?\", 'RS5BL_0' : \"Et quel âge « ont ces enfants » ? (Moins d'un an)\"\n",
    "                      , 'RS5BL_1' : \"Et quel âge « ont ces enfants » ? (1 à 5 ans)\", 'RS5BL_2' : \"Et quel âge « ont ces enfants » ? (6 à 10 ans)\"\n",
    "                      , 'RS5BL_3' : \"Et quel âge « ont ces enfants » ? (10 à 15 ans)\", 'RS5BL_4' : \"Et quel âge « ont ces enfants » ? (15 ans et plus)\"\n",
    "                      , 'INCOME' : \"Quel est le revenu net de votre foyer après impôts ?\",  } "
   ]
  },
  {
   "cell_type": "code",
   "execution_count": 582,
   "metadata": {},
   "outputs": [
    {
     "data": {
      "text/plain": [
       "GENDER\n",
       "2    513\n",
       "1    487\n",
       "Name: count, dtype: int64"
      ]
     },
     "execution_count": 582,
     "metadata": {},
     "output_type": "execute_result"
    }
   ],
   "source": [
    "# Variable 'GENDER'\n",
    "# Question : Etes-vous ? \n",
    "data['GENDER'].value_counts()"
   ]
  },
  {
   "cell_type": "code",
   "execution_count": 583,
   "metadata": {},
   "outputs": [],
   "source": [
    "data['GENDER'] = data['GENDER'].astype('category')\n",
    "data['GENDER'] = data['GENDER'].cat.rename_categories({1 : \"Homme\"\n",
    "                                                 , 2 : \"Femme\"})"
   ]
  },
  {
   "cell_type": "code",
   "execution_count": 584,
   "metadata": {},
   "outputs": [],
   "source": [
    "data['GENDER'] = pd.Categorical(data['GENDER'], \n",
    "                            categories=['Femme', 'Homme'], \n",
    "                            ordered=True)"
   ]
  },
  {
   "cell_type": "code",
   "execution_count": 585,
   "metadata": {},
   "outputs": [
    {
     "data": {
      "text/plain": [
       "QAGE\n",
       "5    305\n",
       "4    266\n",
       "3    177\n",
       "2    151\n",
       "1    101\n",
       "Name: count, dtype: int64"
      ]
     },
     "execution_count": 585,
     "metadata": {},
     "output_type": "execute_result"
    }
   ],
   "source": [
    "# Variable 'QAGE'\n",
    "# Question : Groupe d'ages\n",
    "data['QAGE'].value_counts()"
   ]
  },
  {
   "cell_type": "code",
   "execution_count": 586,
   "metadata": {},
   "outputs": [],
   "source": [
    "data['QAGE'] = data['QAGE'].astype('category')\n",
    "data['QAGE'] =data['QAGE'].cat.rename_categories({1 : \"18 à 24 ans\"\n",
    "                                                 , 2 : \"25 à 34 ans\"\n",
    "                                                 , 3 : \"35 à 44 ans\"\n",
    "                                                 , 4 : \"45 à 59 ans\"\n",
    "                                                 , 5 : \"60 ans et plus\"})"
   ]
  },
  {
   "cell_type": "code",
   "execution_count": 587,
   "metadata": {},
   "outputs": [],
   "source": [
    "#changer l'order des categories de la variable 'QAGE'\n",
    "data['QAGE'] = pd.Categorical(data['QAGE'], \n",
    "                            categories=['18 à 24 ans'\n",
    "                                        , '25 à 34 ans'\n",
    "                                        , '35 à 44 ans'\n",
    "                                       , '45 à 59 ans'\n",
    "                                       , '60 ans et plus'], \n",
    "                            ordered=True)"
   ]
  },
  {
   "cell_type": "code",
   "execution_count": 588,
   "metadata": {},
   "outputs": [
    {
     "data": {
      "text/plain": [
       "REGION9\n",
       "1    190\n",
       "5    144\n",
       "8    143\n",
       "9    108\n",
       "7     94\n",
       "2     92\n",
       "3     83\n",
       "6     78\n",
       "4     68\n",
       "Name: count, dtype: int64"
      ]
     },
     "execution_count": 588,
     "metadata": {},
     "output_type": "execute_result"
    }
   ],
   "source": [
    "# Variable 'REGION9'\n",
    "# Question : Région\n",
    "data['REGION9'].value_counts()"
   ]
  },
  {
   "cell_type": "code",
   "execution_count": 589,
   "metadata": {},
   "outputs": [],
   "source": [
    "data['REGION9'] = data['REGION9'].astype('category')\n",
    "data['REGION9'] = data['REGION9'].cat.rename_categories({1 : \"Region Parisienne\"\n",
    "                                                 , 2 : \"Bassin Parisien Ouest\"\n",
    "                                                 , 3 : \"Bassin Parisien Est\"\n",
    "                                                 , 4 : \"Nord\"\n",
    "                                                 , 5 : \"Ouest\"\n",
    "                                                 , 6 : \"Est\"\n",
    "                                                 , 7 : \"Sud-Ouest\"\n",
    "                                                 , 8 : \"Sud-Est\"\n",
    "                                                 , 9 : \"Méditerranée\"})"
   ]
  },
  {
   "cell_type": "code",
   "execution_count": 590,
   "metadata": {},
   "outputs": [
    {
     "data": {
      "text/plain": [
       "AGGLO\n",
       "4    300\n",
       "1    233\n",
       "5    165\n",
       "2    163\n",
       "3    139\n",
       "Name: count, dtype: int64"
      ]
     },
     "execution_count": 590,
     "metadata": {},
     "output_type": "execute_result"
    }
   ],
   "source": [
    "# Variable 'AGGLO'\n",
    "# Question : Agglomération\n",
    "data['AGGLO'].value_counts()"
   ]
  },
  {
   "cell_type": "code",
   "execution_count": 591,
   "metadata": {},
   "outputs": [],
   "source": [
    "data['AGGLO'] = data['AGGLO'].astype('category')\n",
    "data['AGGLO'] = data['AGGLO'].cat.rename_categories({1 : \"Rural\"\n",
    "                                                 , 2 : \"Urban unit 2000 - 19999 inhab\"\n",
    "                                                 , 3 : \"Urban unit 20000 - 99999 inhab\"\n",
    "                                                 , 4 : \"Urban unit 100000 inhab and over\"\n",
    "                                                 , 5 : \"Urban unit Paris\"})"
   ]
  },
  {
   "cell_type": "code",
   "execution_count": 592,
   "metadata": {},
   "outputs": [],
   "source": [
    "#changer l'order des categories de la variable 'AGGLO'\n",
    "data['AGGLO'] = pd.Categorical(data['AGGLO'], \n",
    "                            categories=['Rural'\n",
    "                                        , 'Urban unit 2000 - 19999 inhab'\n",
    "                                        , 'Urban unit 20000 - 99999 inhab'\n",
    "                                        , 'Urban unit 100000 inhab and over'\n",
    "                                        , 'Urban unit Paris'], \n",
    "                            ordered=True)"
   ]
  },
  {
   "cell_type": "code",
   "execution_count": 593,
   "metadata": {},
   "outputs": [
    {
     "data": {
      "text/plain": [
       "HHSIZE12\n",
       "2    374\n",
       "3    205\n",
       "1    203\n",
       "4    162\n",
       "5     47\n",
       "6      6\n",
       "7      2\n",
       "8      1\n",
       "Name: count, dtype: int64"
      ]
     },
     "execution_count": 593,
     "metadata": {},
     "output_type": "execute_result"
    }
   ],
   "source": [
    "# Variable 'HHSIZE12'\n",
    "# Question : Combien de personnes habitent ou vivent à votre adresse actuelle? (y compris vous-même et tous les enfants vivant ou habitant à cette adresse, et ce, depuis au moins deux mois)\n",
    "data['HHSIZE12'].value_counts()"
   ]
  },
  {
   "cell_type": "code",
   "execution_count": 594,
   "metadata": {},
   "outputs": [],
   "source": [
    "data['HHSIZE12'] = data['HHSIZE12'].astype('category')\n",
    "data['HHSIZE12'] = data['HHSIZE12'].cat.rename_categories({1 : \"1\"\n",
    "                                                 , 2 : \"2\"\n",
    "                                                 , 3 : \"3\"\n",
    "                                                 , 4 : \"4\"\n",
    "                                                 , 5 : \"5\", 6 : \"6\", 7 : \"7\", 8 : \"8\"})"
   ]
  },
  {
   "cell_type": "code",
   "execution_count": 595,
   "metadata": {},
   "outputs": [],
   "source": [
    "#changer l'order des categories de la variable 'HHSIZE12'\n",
    "data['HHSIZE12'] = pd.Categorical(data['HHSIZE12'], \n",
    "                            categories=['1'\n",
    "                                        , '2'\n",
    "                                        , '3'\n",
    "                                       , '4', '5', '6', '7', '8'], \n",
    "                            ordered=True)"
   ]
  },
  {
   "cell_type": "code",
   "execution_count": 596,
   "metadata": {},
   "outputs": [
    {
     "data": {
      "text/plain": [
       "EMP01\n",
       "1    457\n",
       "7    316\n",
       "2     81\n",
       "3     43\n",
       "4     42\n",
       "8     27\n",
       "6     21\n",
       "5     13\n",
       "Name: count, dtype: int64"
      ]
     },
     "execution_count": 596,
     "metadata": {},
     "output_type": "execute_result"
    }
   ],
   "source": [
    "# Variable 'EMP01'\n",
    "# Question : Quelle est votre situation professionnelle actuelle ?\n",
    "data['EMP01'].value_counts()"
   ]
  },
  {
   "cell_type": "code",
   "execution_count": 597,
   "metadata": {},
   "outputs": [],
   "source": [
    "data['EMP01'] = data['EMP01'].astype('category')\n",
    "data['EMP01'] =data['EMP01'].cat.rename_categories({1 : \"Salarié(e) à plein temps\"\n",
    "                                                 , 2 : \"Salarié(e) à temps partiel\"\n",
    "                                                 , 3 : \"Travaille à son compte\"\n",
    "                                                 , 4 : \"Ne travaille pas actuellement mais en recherche d'emploi\"\n",
    "                                                 , 5 : \"Ne travaille pas actuellement et ne recherche pas d'emploi / en incapacité de travail\"\n",
    "                                                 , 6 : \"Homme/femme au foyer\"\n",
    "                                                 , 7 : \"Retraité(e)\"\n",
    "                                                 , 8 : \"Etudiant/élève\"\n",
    "                                                 , 9 : \"Militaire\"\n",
    "                                                 , 10 : \"Je préfère ne pas répondre\"})"
   ]
  },
  {
   "cell_type": "code",
   "execution_count": 598,
   "metadata": {},
   "outputs": [
    {
     "data": {
      "text/plain": [
       "PCSC8\n",
       "7    316\n",
       "4    170\n",
       "3    137\n",
       "5    131\n",
       "6    126\n",
       "8     62\n",
       "2     50\n",
       "1      8\n",
       "Name: count, dtype: int64"
      ]
     },
     "execution_count": 598,
     "metadata": {},
     "output_type": "execute_result"
    }
   ],
   "source": [
    "# Variable 'PCSC8'\n",
    "# Question : PCS Chef de famille\n",
    "data['PCSC8'].value_counts()"
   ]
  },
  {
   "cell_type": "code",
   "execution_count": 599,
   "metadata": {},
   "outputs": [],
   "source": [
    "data['PCSC8'] = data['PCSC8'].astype('category')\n",
    "data['PCSC8'] = data['PCSC8'].cat.rename_categories({1 : \"Agriculteur exploitant\"\n",
    "                                                 , 2 : \"Profession indépendante\"\n",
    "                                                 , 3 : \"Cadre supérieur\"\n",
    "                                                 , 4 : \"Profession intermédiaire\"\n",
    "                                                 , 5 : \"Employé\"\n",
    "                                                 , 6 : \"Ouvrier\"\n",
    "                                                 , 7 : \"Retraité\"\n",
    "                                                 , 8 : \"Inactif\"})"
   ]
  },
  {
   "cell_type": "code",
   "execution_count": 600,
   "metadata": {},
   "outputs": [
    {
     "data": {
      "text/plain": [
       "PCSI8\n",
       "7    316\n",
       "4    170\n",
       "3    137\n",
       "5    131\n",
       "6    126\n",
       "8     62\n",
       "2     50\n",
       "1      8\n",
       "Name: count, dtype: int64"
      ]
     },
     "execution_count": 600,
     "metadata": {},
     "output_type": "execute_result"
    }
   ],
   "source": [
    "# Variable 'PCSI8'\n",
    "# Question : PCS Interviewé\n",
    "data['PCSI8'].value_counts()"
   ]
  },
  {
   "cell_type": "code",
   "execution_count": 601,
   "metadata": {},
   "outputs": [],
   "source": [
    "data['PCSI8'] = data['PCSI8'].astype('category')\n",
    "data['PCSI8'] = data['PCSI8'].cat.rename_categories({1 : \"Agriculteur exploitant\"\n",
    "                                                 , 2 : \"Profession indépendante\"\n",
    "                                                 , 3 : \"Cadre supérieur\"\n",
    "                                                 , 4 : \"Profession intermédiaire\"\n",
    "                                                 , 5 : \"Employé\"\n",
    "                                                 , 6 : \"Ouvrier\"\n",
    "                                                 , 7 : \"Retraité\"\n",
    "                                                 , 8 : \"Inactif\"})"
   ]
  },
  {
   "cell_type": "code",
   "execution_count": 602,
   "metadata": {},
   "outputs": [
    {
     "data": {
      "text/plain": [
       "MARITALL\n",
       "3    459\n",
       "1    315\n",
       "2    118\n",
       "7     69\n",
       "5     22\n",
       "4     10\n",
       "6      7\n",
       "Name: count, dtype: int64"
      ]
     },
     "execution_count": 602,
     "metadata": {},
     "output_type": "execute_result"
    }
   ],
   "source": [
    "# Variable 'MARITALL'\n",
    "# Question : Situation maritale\n",
    "data['MARITALL'].value_counts()"
   ]
  },
  {
   "cell_type": "code",
   "execution_count": 603,
   "metadata": {},
   "outputs": [],
   "source": [
    "data['MARITALL'] = data['MARITALL'].astype('category')\n",
    "data['MARITALL'] =data['MARITALL'].cat.rename_categories({1 : \"Célibataire\"\n",
    "                                                 , 2 : \"En union libre\"\n",
    "                                                 , 3 : \"Marié(e)\"\n",
    "                                                 , 4 : \"Séparé(e)\"\n",
    "                                                 , 5 : \"Divorcé(e)\"\n",
    "                                                 , 6 : \"Veuf/ve\"\n",
    "                                                 , 7 : \"Pacsé(e) (Pacte civil de solidarité)\"})"
   ]
  },
  {
   "cell_type": "code",
   "execution_count": 604,
   "metadata": {},
   "outputs": [],
   "source": [
    "#changer l'order des categories de la variable 'MARITALL'\n",
    "data['MARITALL'] = pd.Categorical(data['MARITALL'], \n",
    "                            categories=['Célibataire'\n",
    "                                        , 'En union libre'\n",
    "                                        , 'Marié(e)'\n",
    "                                        , 'Séparé(e)'\n",
    "                                        , 'Divorcé(e)'\n",
    "                                        , 'Veuf/ve'\n",
    "                                        , 'Pacsé(e) (Pacte civil de solidarité)'], \n",
    "                            ordered=True)"
   ]
  },
  {
   "cell_type": "code",
   "execution_count": 605,
   "metadata": {},
   "outputs": [
    {
     "data": {
      "text/plain": [
       "FR02EDU\n",
       "5    219\n",
       "3    217\n",
       "4    209\n",
       "6    167\n",
       "7    127\n",
       "2     44\n",
       "1     17\n",
       "Name: count, dtype: int64"
      ]
     },
     "execution_count": 605,
     "metadata": {},
     "output_type": "execute_result"
    }
   ],
   "source": [
    "# Variable 'FR02EDU'\n",
    "# Question : Quel est le niveau d’études le plus élevé que vous ayez atteint? \n",
    "data['FR02EDU'].value_counts()"
   ]
  },
  {
   "cell_type": "code",
   "execution_count": 606,
   "metadata": {},
   "outputs": [],
   "source": [
    "data['FR02EDU'] = data['FR02EDU'].astype('category')\n",
    "data['FR02EDU'] = data['FR02EDU'].cat.rename_categories({1 : \"Écoles Élémentaires\"\n",
    "                                                 , 2 : \"Collège (BREVET)\"\n",
    "                                                 , 3 : \"Lycée Professionnel (CAP, BEP, MC, BP, Baccalauréat professionnel)\"\n",
    "                                                 , 4 : \"Lycée Général & Technologique (Baccalauréat général / Baccalauréat technologique)\"\n",
    "                                                 , 5 : \"Enseignement pré-universitaire / écoles sanitaires et sociales (Diplôme de la capacité en droit, diplôme d'accès aux études universitaires / Diplôme de moniteur éducateur, éducateur technique spécialisé\"\n",
    "                                                 , 6 : \"Sections de techniciens supérieurs (BTS) / Institut universitaire de technologie (DUT)\"\n",
    "                                                 , 7 : \"Classes préparatoires aux Grandes Ecoles, Grandes Écoles, Écoles Spécialisées (Diplômes professionnels divers : ingénieur, ingénieur commercial, éducateur spécialisé, laborantin, assistante sociale, notaire, architecte, vétérinaire, journaliste, etc.)\"})"
   ]
  },
  {
   "cell_type": "code",
   "execution_count": 607,
   "metadata": {},
   "outputs": [],
   "source": [
    "#changer l'order des categories de la variable 'FR02EDU'\n",
    "data['FR02EDU'] = pd.Categorical(data['FR02EDU'], \n",
    "                            categories=[\"Écoles Élémentaires\"\n",
    "                                        , \"Collège (BREVET)\"\n",
    "                                        , \"Lycée Professionnel (CAP, BEP, MC, BP, Baccalauréat professionnel)\"\n",
    "                                        , \"Lycée Général & Technologique (Baccalauréat général / Baccalauréat technologique)\"\n",
    "                                        , \"Enseignement pré-universitaire / écoles sanitaires et sociales (Diplôme de la capacité en droit, diplôme d'accès aux études universitaires / Diplôme de moniteur éducateur, éducateur technique spécialisé\"\n",
    "                                        , \"Sections de techniciens supérieurs (BTS) / Institut universitaire de technologie (DUT)\"\n",
    "                                        , \"Classes préparatoires aux Grandes Ecoles, Grandes Écoles, Écoles Spécialisées (Diplômes professionnels divers : ingénieur, ingénieur commercial, éducateur spécialisé, laborantin, assistante sociale, notaire, architecte, vétérinaire, journaliste, etc.)\"], \n",
    "                            ordered=True)"
   ]
  },
  {
   "cell_type": "code",
   "execution_count": 608,
   "metadata": {},
   "outputs": [
    {
     "data": {
      "text/plain": [
       "EDUC\n",
       "3    426\n",
       "4    219\n",
       "5    167\n",
       "6    127\n",
       "2     44\n",
       "1     17\n",
       "Name: count, dtype: int64"
      ]
     },
     "execution_count": 608,
     "metadata": {},
     "output_type": "execute_result"
    }
   ],
   "source": [
    "# Variable 'EDUC'\n",
    "# Question : Niveau d'éducation\n",
    "data['EDUC'].value_counts()"
   ]
  },
  {
   "cell_type": "code",
   "execution_count": 609,
   "metadata": {},
   "outputs": [],
   "source": [
    "data['EDUC'] = data['EDUC'].astype('category')\n",
    "data['EDUC'] = data['EDUC'].cat.rename_categories({1 : \"Ecole\"\n",
    "                                                 , 2 : \"Collège\"\n",
    "                                                 , 3 : \"Lycée\"\n",
    "                                                 , 4 : \"Enseignement Pré universitaire\"\n",
    "                                                 , 5 : \"BTS/DUT\"\n",
    "                                                 , 6 : \"Enseignement supérieur\"})"
   ]
  },
  {
   "cell_type": "code",
   "execution_count": 610,
   "metadata": {},
   "outputs": [],
   "source": [
    "#changer l'order des categories de la variable 'EDUC'\n",
    "data['EDUC'] = pd.Categorical(data['EDUC'], \n",
    "                            categories=['Ecole'\n",
    "                                        , 'Collège'\n",
    "                                        , 'Lycée'\n",
    "                                       , 'Enseignement Pré universitaire'\n",
    "                                       , 'BTS/DUT'\n",
    "                                       , 'Enseignement supérieur'], \n",
    "                            ordered=True)"
   ]
  },
  {
   "cell_type": "code",
   "execution_count": 611,
   "metadata": {},
   "outputs": [
    {
     "data": {
      "text/plain": [
       "Q1L\n",
       "2    740\n",
       "3    139\n",
       "1     96\n",
       "4     25\n",
       "Name: count, dtype: int64"
      ]
     },
     "execution_count": 611,
     "metadata": {},
     "output_type": "execute_result"
    }
   ],
   "source": [
    "# Variable 'Q1L'\n",
    "# Question : Faites-vous tout à fait confiance, plutôt confiance, plutôt pas confiance ou pas du tout confiance aux médicaments ?\n",
    "data['Q1L'].value_counts()"
   ]
  },
  {
   "cell_type": "code",
   "execution_count": 612,
   "metadata": {},
   "outputs": [
    {
     "data": {
      "text/plain": [
       "Q2L\n",
       "2    748\n",
       "1    152\n",
       "3     90\n",
       "4     10\n",
       "Name: count, dtype: int64"
      ]
     },
     "execution_count": 612,
     "metadata": {},
     "output_type": "execute_result"
    }
   ],
   "source": [
    "# Variable 'Q2L'\n",
    "# Question : Et faites-vous tout à fait confiance, plutôt confiance, plutôt pas confiance ou pas du tout confiance aux médicaments que vous prenez ? \n",
    "data['Q2L'].value_counts()"
   ]
  },
  {
   "cell_type": "code",
   "execution_count": 613,
   "metadata": {},
   "outputs": [],
   "source": [
    "data[['Q1L', 'Q2L']] = data[['Q1L', 'Q2L']].astype('category')"
   ]
  },
  {
   "cell_type": "code",
   "execution_count": 614,
   "metadata": {},
   "outputs": [],
   "source": [
    "ItemsQ1LQ2L = ['Q1L', 'Q2L']"
   ]
  },
  {
   "cell_type": "code",
   "execution_count": 615,
   "metadata": {},
   "outputs": [],
   "source": [
    "for i in data[ItemsQ1LQ2L].columns:\n",
    "    data[i] = data[i].cat.rename_categories({1: \"Tout à fait confiance\"\n",
    "                                                 , 2 : \"Plutôt confiance\"\n",
    "                                                 , 3 : \"Plutôt pas confiance\"\n",
    "                                                 , 4 : \"Pas du tout confiance\"})"
   ]
  },
  {
   "cell_type": "code",
   "execution_count": 616,
   "metadata": {},
   "outputs": [],
   "source": [
    "#changer l'order des categories\n",
    "for i in data[ItemsQ1LQ2L].columns:\n",
    "    data[i] = pd.Categorical(data[i], \n",
    "                            categories=['Pas du tout confiance'\n",
    "                                        , 'Plutôt pas confiance'\n",
    "                                        , 'Plutôt confiance'\n",
    "                                       , 'Tout à fait confiance'], \n",
    "                            ordered=True)"
   ]
  },
  {
   "cell_type": "code",
   "execution_count": 617,
   "metadata": {},
   "outputs": [
    {
     "data": {
      "text/plain": [
       "Q3L_0\n",
       "2    661\n",
       "1    224\n",
       "3     99\n",
       "4     16\n",
       "Name: count, dtype: int64"
      ]
     },
     "execution_count": 617,
     "metadata": {},
     "output_type": "execute_result"
    }
   ],
   "source": [
    "# Variable 'Q3L_0'\n",
    "# Question : Pour chacun des types de médicaments suivants, lui faites-vous tout à fait confiance, plutôt confiance, plutôt pas confiance ou pas du tout confiance ? Les médicaments sur ordonnance\n",
    "data['Q3L_0'].value_counts()"
   ]
  },
  {
   "cell_type": "code",
   "execution_count": 618,
   "metadata": {},
   "outputs": [
    {
     "data": {
      "text/plain": [
       "Q3L_1\n",
       "2    634\n",
       "3    270\n",
       "1     58\n",
       "4     38\n",
       "Name: count, dtype: int64"
      ]
     },
     "execution_count": 618,
     "metadata": {},
     "output_type": "execute_result"
    }
   ],
   "source": [
    "# Variable 'Q3L_1'\n",
    "# Question : Pour chacun des types de médicaments suivants, lui faites-vous tout à fait confiance, plutôt confiance, plutôt pas confiance ou pas du tout confiance ? Les médicaments sans ordonnance\n",
    "data['Q3L_1'].value_counts()"
   ]
  },
  {
   "cell_type": "code",
   "execution_count": 619,
   "metadata": {},
   "outputs": [
    {
     "data": {
      "text/plain": [
       "Q3L_2\n",
       "2    713\n",
       "1    169\n",
       "3    101\n",
       "4     17\n",
       "Name: count, dtype: int64"
      ]
     },
     "execution_count": 619,
     "metadata": {},
     "output_type": "execute_result"
    }
   ],
   "source": [
    "# Variable 'Q3L_2'\n",
    "# Question : Pour chacun des types de médicaments suivants, lui faites-vous tout à fait confiance, plutôt confiance, plutôt pas confiance ou pas du tout confiance ? Les médicaments remboursés\n",
    "data['Q3L_2'].value_counts()"
   ]
  },
  {
   "cell_type": "code",
   "execution_count": 620,
   "metadata": {},
   "outputs": [
    {
     "data": {
      "text/plain": [
       "Q3L_3\n",
       "2    657\n",
       "3    236\n",
       "1     76\n",
       "4     31\n",
       "Name: count, dtype: int64"
      ]
     },
     "execution_count": 620,
     "metadata": {},
     "output_type": "execute_result"
    }
   ],
   "source": [
    "# Variable 'Q3L_3'\n",
    "# Question : Pour chacun des types de médicaments suivants, lui faites-vous tout à fait confiance, plutôt confiance, plutôt pas confiance ou pas du tout confiance ? Les médicaments non remboursés\n",
    "data['Q3L_3'].value_counts()"
   ]
  },
  {
   "cell_type": "code",
   "execution_count": 621,
   "metadata": {},
   "outputs": [
    {
     "data": {
      "text/plain": [
       "Q3L_4\n",
       "2    711\n",
       "1    156\n",
       "3    111\n",
       "4     22\n",
       "Name: count, dtype: int64"
      ]
     },
     "execution_count": 621,
     "metadata": {},
     "output_type": "execute_result"
    }
   ],
   "source": [
    "# Variable 'Q3L_4'\n",
    "# Question : Pour chacun des types de médicaments suivants, lui faites-vous tout à fait confiance, plutôt confiance, plutôt pas confiance ou pas du tout confiance ? Les médicaments de marque \n",
    "data['Q3L_4'].value_counts()"
   ]
  },
  {
   "cell_type": "code",
   "execution_count": 622,
   "metadata": {},
   "outputs": [
    {
     "data": {
      "text/plain": [
       "Q3L_5\n",
       "2    569\n",
       "3    227\n",
       "1    118\n",
       "4     86\n",
       "Name: count, dtype: int64"
      ]
     },
     "execution_count": 622,
     "metadata": {},
     "output_type": "execute_result"
    }
   ],
   "source": [
    "# Variable 'Q3L_5'\n",
    "# Question : Pour chacun des types de médicaments suivants, lui faites-vous tout à fait confiance, plutôt confiance, plutôt pas confiance ou pas du tout confiance ? Les médicaments génériques\n",
    "data['Q3L_5'].value_counts()"
   ]
  },
  {
   "cell_type": "code",
   "execution_count": 623,
   "metadata": {},
   "outputs": [
    {
     "data": {
      "text/plain": [
       "Q3L_6\n",
       "2    567\n",
       "3    231\n",
       "1    130\n",
       "4     72\n",
       "Name: count, dtype: int64"
      ]
     },
     "execution_count": 623,
     "metadata": {},
     "output_type": "execute_result"
    }
   ],
   "source": [
    "# Variable 'Q3L_6'\n",
    "# Question : Pour chacun des types de médicaments suivants, lui faites-vous tout à fait confiance, plutôt confiance, plutôt pas confiance ou pas du tout confiance ? Les vaccins\n",
    "data['Q3L_6'].value_counts()"
   ]
  },
  {
   "cell_type": "code",
   "execution_count": 624,
   "metadata": {},
   "outputs": [
    {
     "data": {
      "text/plain": [
       "Q3L_7\n",
       "2    528\n",
       "3    220\n",
       "1    190\n",
       "4     62\n",
       "Name: count, dtype: int64"
      ]
     },
     "execution_count": 624,
     "metadata": {},
     "output_type": "execute_result"
    }
   ],
   "source": [
    "# Variable 'Q3L_7'\n",
    "# Question : Pour chacun des types de médicaments suivants, lui faites-vous tout à fait confiance, plutôt confiance, plutôt pas confiance ou pas du tout confiance ? L’homéopathie\n",
    "data['Q3L_7'].value_counts()"
   ]
  },
  {
   "cell_type": "code",
   "execution_count": 625,
   "metadata": {},
   "outputs": [],
   "source": [
    "data[['Q3L_0', 'Q3L_1', 'Q3L_2', 'Q3L_3', 'Q3L_4', 'Q3L_5', 'Q3L_6', 'Q3L_7']] = data[['Q3L_0', 'Q3L_1', 'Q3L_2', 'Q3L_3', 'Q3L_4', 'Q3L_5', 'Q3L_6', 'Q3L_7']].astype('category')"
   ]
  },
  {
   "cell_type": "code",
   "execution_count": 626,
   "metadata": {},
   "outputs": [],
   "source": [
    "ItemsQ3L = ['Q3L_0', 'Q3L_1', 'Q3L_2', 'Q3L_3', 'Q3L_4', 'Q3L_5', 'Q3L_6', 'Q3L_7']"
   ]
  },
  {
   "cell_type": "code",
   "execution_count": 627,
   "metadata": {},
   "outputs": [],
   "source": [
    "for i in data[ItemsQ3L].columns:\n",
    "    data[i] = data[i].cat.rename_categories({1: \"Tout à fait confiance\"\n",
    "                                                 , 2 : \"Plutôt confiance\"\n",
    "                                                 , 3 : \"Plutôt pas confiance\"\n",
    "                                                 , 4 : \"Pas du tout confiance\"})"
   ]
  },
  {
   "cell_type": "code",
   "execution_count": 628,
   "metadata": {},
   "outputs": [],
   "source": [
    "#changer l'order des categories\n",
    "for i in data[ItemsQ3L].columns:\n",
    "    data[i] = pd.Categorical(data[i], \n",
    "                            categories=['Pas du tout confiance'\n",
    "                                        , 'Plutôt pas confiance'\n",
    "                                        , 'Plutôt confiance'\n",
    "                                       , 'Tout à fait confiance'], \n",
    "                            ordered=True)"
   ]
  },
  {
   "cell_type": "code",
   "execution_count": 629,
   "metadata": {},
   "outputs": [
    {
     "data": {
      "text/plain": [
       "Q4L_0\n",
       "2    536\n",
       "1    400\n",
       "3     54\n",
       "4     10\n",
       "Name: count, dtype: int64"
      ]
     },
     "execution_count": 629,
     "metadata": {},
     "output_type": "execute_result"
    }
   ],
   "source": [
    "# Variable 'Q4L_0'\n",
    "# Question : En matière d’information sur les médicaments, diriez-vous que vous faites personnellement tout à fait confiance, plutôt confiance, plutôt pas confiance ou pas du tout confiance : A votre médecin traitant \n",
    "data['Q4L_0'].value_counts()"
   ]
  },
  {
   "cell_type": "code",
   "execution_count": 630,
   "metadata": {},
   "outputs": [
    {
     "data": {
      "text/plain": [
       "Q4L_1\n",
       "2    595\n",
       "1    328\n",
       "3     55\n",
       "4     22\n",
       "Name: count, dtype: int64"
      ]
     },
     "execution_count": 630,
     "metadata": {},
     "output_type": "execute_result"
    }
   ],
   "source": [
    "# Variable 'Q4L_1'\n",
    "# Question : En matière d’information sur les médicaments, diriez-vous que vous faites personnellement tout à fait confiance, plutôt confiance, plutôt pas confiance ou pas du tout confiance : Aux médecins spécialsites\n",
    "data['Q4L_1'].value_counts()"
   ]
  },
  {
   "cell_type": "code",
   "execution_count": 631,
   "metadata": {},
   "outputs": [
    {
     "data": {
      "text/plain": [
       "Q4L_2\n",
       "2    667\n",
       "1    209\n",
       "3     97\n",
       "4     27\n",
       "Name: count, dtype: int64"
      ]
     },
     "execution_count": 631,
     "metadata": {},
     "output_type": "execute_result"
    }
   ],
   "source": [
    "# Variable 'Q4L_2'\n",
    "# Question : En matière d’information sur les médicaments, diriez-vous que vous faites personnellement tout à fait confiance, plutôt confiance, plutôt pas confiance ou pas du tout confiance : Aux pharmaciens\n",
    "data['Q4L_2'].value_counts()"
   ]
  },
  {
   "cell_type": "code",
   "execution_count": 632,
   "metadata": {},
   "outputs": [
    {
     "data": {
      "text/plain": [
       "Q4L_3\n",
       "2    689\n",
       "1    203\n",
       "3     84\n",
       "4     24\n",
       "Name: count, dtype: int64"
      ]
     },
     "execution_count": 632,
     "metadata": {},
     "output_type": "execute_result"
    }
   ],
   "source": [
    "# Variable 'Q4L_3'\n",
    "# Question : En matière d’information sur les médicaments, diriez-vous que vous faites personnellement tout à fait confiance, plutôt confiance, plutôt pas confiance ou pas du tout confiance : Aux infirmières\n",
    "data['Q4L_3'].value_counts()"
   ]
  },
  {
   "cell_type": "code",
   "execution_count": 633,
   "metadata": {},
   "outputs": [
    {
     "data": {
      "text/plain": [
       "Q4L_4\n",
       "2    443\n",
       "3    368\n",
       "4    126\n",
       "1     63\n",
       "Name: count, dtype: int64"
      ]
     },
     "execution_count": 633,
     "metadata": {},
     "output_type": "execute_result"
    }
   ],
   "source": [
    "# Variable 'Q4L_4'\n",
    "# Question : En matière d’information sur les médicaments, diriez-vous que vous faites personnellement tout à fait confiance, plutôt confiance, plutôt pas confiance ou pas du tout confiance : Aux autorités de santé/Aux pouvoirs publics\n",
    "data['Q4L_4'].value_counts()"
   ]
  },
  {
   "cell_type": "code",
   "execution_count": 634,
   "metadata": {},
   "outputs": [
    {
     "data": {
      "text/plain": [
       "Q4L_5\n",
       "2    678\n",
       "1    189\n",
       "3    108\n",
       "4     25\n",
       "Name: count, dtype: int64"
      ]
     },
     "execution_count": 634,
     "metadata": {},
     "output_type": "execute_result"
    }
   ],
   "source": [
    "# Variable 'Q4L_5'\n",
    "# Question : En matière d’information sur les médicaments, diriez-vous que vous faites personnellement tout à fait confiance, plutôt confiance, plutôt pas confiance ou pas du tout confiance : Aux chercheurs\n",
    "data['Q4L_5'].value_counts()"
   ]
  },
  {
   "cell_type": "code",
   "execution_count": 635,
   "metadata": {},
   "outputs": [
    {
     "data": {
      "text/plain": [
       "Q4L_6\n",
       "2    490\n",
       "3    366\n",
       "4     93\n",
       "1     51\n",
       "Name: count, dtype: int64"
      ]
     },
     "execution_count": 635,
     "metadata": {},
     "output_type": "execute_result"
    }
   ],
   "source": [
    "# Variable 'Q4L_6'\n",
    "# Question : En matière d’information sur les médicaments, diriez-vous que vous faites personnellement tout à fait confiance, plutôt confiance, plutôt pas confiance ou pas du tout confiance : Aux associations\n",
    "data['Q4L_6'].value_counts()"
   ]
  },
  {
   "cell_type": "code",
   "execution_count": 636,
   "metadata": {},
   "outputs": [
    {
     "data": {
      "text/plain": [
       "Q4L_7\n",
       "2    716\n",
       "3    139\n",
       "1    120\n",
       "4     25\n",
       "Name: count, dtype: int64"
      ]
     },
     "execution_count": 636,
     "metadata": {},
     "output_type": "execute_result"
    }
   ],
   "source": [
    "# Variable 'Q4L_7'\n",
    "# Question : En matière d’information sur les médicaments, diriez-vous que vous faites personnellement tout à fait confiance, plutôt confiance, plutôt pas confiance ou pas du tout confiance : Aux notices des médicaments\n",
    "data['Q4L_7'].value_counts()"
   ]
  },
  {
   "cell_type": "code",
   "execution_count": 637,
   "metadata": {},
   "outputs": [
    {
     "data": {
      "text/plain": [
       "Q4L_8\n",
       "2    401\n",
       "3    379\n",
       "4    172\n",
       "1     48\n",
       "Name: count, dtype: int64"
      ]
     },
     "execution_count": 637,
     "metadata": {},
     "output_type": "execute_result"
    }
   ],
   "source": [
    "# Variable 'Q4L_8'\n",
    "# Question : En matière d’information sur les médicaments, diriez-vous que vous faites personnellement tout à fait confiance, plutôt confiance, plutôt pas confiance ou pas du tout confiance : Aux laboratoires pharmaceutiques\n",
    "data['Q4L_8'].value_counts()"
   ]
  },
  {
   "cell_type": "code",
   "execution_count": 638,
   "metadata": {},
   "outputs": [
    {
     "data": {
      "text/plain": [
       "Q4L_9\n",
       "4    454\n",
       "3    428\n",
       "2    104\n",
       "1     14\n",
       "Name: count, dtype: int64"
      ]
     },
     "execution_count": 638,
     "metadata": {},
     "output_type": "execute_result"
    }
   ],
   "source": [
    "# Variable 'Q4L_9'\n",
    "# Question : En matière d’information sur les médicaments, diriez-vous que vous faites personnellement tout à fait confiance, plutôt confiance, plutôt pas confiance ou pas du tout confiance : Aux responsables politiques\n",
    "data['Q4L_9'].value_counts()"
   ]
  },
  {
   "cell_type": "code",
   "execution_count": 639,
   "metadata": {},
   "outputs": [
    {
     "data": {
      "text/plain": [
       "Q4L_10\n",
       "3    501\n",
       "4    262\n",
       "2    217\n",
       "1     20\n",
       "Name: count, dtype: int64"
      ]
     },
     "execution_count": 639,
     "metadata": {},
     "output_type": "execute_result"
    }
   ],
   "source": [
    "# Variable 'Q4L_10'\n",
    "# Question : En matière d’information sur les médicaments, diriez-vous que vous faites personnellement tout à fait confiance, plutôt confiance, plutôt pas confiance ou pas du tout confiance : A internet\n",
    "data['Q4L_10'].value_counts()"
   ]
  },
  {
   "cell_type": "code",
   "execution_count": 640,
   "metadata": {},
   "outputs": [
    {
     "data": {
      "text/plain": [
       "Q4L_11\n",
       "3    480\n",
       "2    346\n",
       "4    148\n",
       "1     26\n",
       "Name: count, dtype: int64"
      ]
     },
     "execution_count": 640,
     "metadata": {},
     "output_type": "execute_result"
    }
   ],
   "source": [
    "# Variable 'Q4L_11'\n",
    "# Question : En matière d’information sur les médicaments, diriez-vous que vous faites personnellement tout à fait confiance, plutôt confiance, plutôt pas confiance ou pas du tout confiance : A la presse écrite\n",
    "data['Q4L_11'].value_counts()"
   ]
  },
  {
   "cell_type": "code",
   "execution_count": 641,
   "metadata": {},
   "outputs": [
    {
     "data": {
      "text/plain": [
       "Q4L_12\n",
       "3    532\n",
       "2    241\n",
       "4    202\n",
       "1     25\n",
       "Name: count, dtype: int64"
      ]
     },
     "execution_count": 641,
     "metadata": {},
     "output_type": "execute_result"
    }
   ],
   "source": [
    "# Variable 'Q4L_12'\n",
    "# Question : En matière d’information sur les médicaments, diriez-vous que vous faites personnellement tout à fait confiance, plutôt confiance, plutôt pas confiance ou pas du tout confiance : A la television\n",
    "data['Q4L_12'].value_counts()"
   ]
  },
  {
   "cell_type": "code",
   "execution_count": 642,
   "metadata": {},
   "outputs": [
    {
     "data": {
      "text/plain": [
       "Q4L_13\n",
       "3    510\n",
       "2    308\n",
       "4    154\n",
       "1     28\n",
       "Name: count, dtype: int64"
      ]
     },
     "execution_count": 642,
     "metadata": {},
     "output_type": "execute_result"
    }
   ],
   "source": [
    "# Variable 'Q4L_13'\n",
    "# Question : En matière d’information sur les médicaments, diriez-vous que vous faites personnellement tout à fait confiance, plutôt confiance, plutôt pas confiance ou pas du tout confiance : A la radio\n",
    "data['Q4L_13'].value_counts()"
   ]
  },
  {
   "cell_type": "code",
   "execution_count": 643,
   "metadata": {},
   "outputs": [
    {
     "data": {
      "text/plain": [
       "Q4L_14\n",
       "2    586\n",
       "3    267\n",
       "1    102\n",
       "4     45\n",
       "Name: count, dtype: int64"
      ]
     },
     "execution_count": 643,
     "metadata": {},
     "output_type": "execute_result"
    }
   ],
   "source": [
    "# Variable 'Q4L_14'\n",
    "# Question : En matière d’information sur les médicaments, diriez-vous que vous faites personnellement tout à fait confiance, plutôt confiance, plutôt pas confiance ou pas du tout confiance : A votre entourage\n",
    "data['Q4L_14'].value_counts()"
   ]
  },
  {
   "cell_type": "code",
   "execution_count": 644,
   "metadata": {},
   "outputs": [
    {
     "data": {
      "text/plain": [
       "Q4L_15\n",
       "2    470\n",
       "3    406\n",
       "4     87\n",
       "1     37\n",
       "Name: count, dtype: int64"
      ]
     },
     "execution_count": 644,
     "metadata": {},
     "output_type": "execute_result"
    }
   ],
   "source": [
    "# Variable 'Q4L_15'\n",
    "# Question : En matière d’information sur les médicaments, diriez-vous que vous faites personnellement tout à fait confiance, plutôt confiance, plutôt pas confiance ou pas du tout confiance : Aux livres publiés sur les medicaments\n",
    "data['Q4L_15'].value_counts()"
   ]
  },
  {
   "cell_type": "code",
   "execution_count": 645,
   "metadata": {},
   "outputs": [
    {
     "data": {
      "text/plain": [
       "Q4L_16\n",
       "2    576\n",
       "3    238\n",
       "1    118\n",
       "4     68\n",
       "Name: count, dtype: int64"
      ]
     },
     "execution_count": 645,
     "metadata": {},
     "output_type": "execute_result"
    }
   ],
   "source": [
    "# Variable 'Q4L_16'\n",
    "# Question : En matière d’information sur les médicaments, diriez-vous que vous faites personnellement tout à fait confiance, plutôt confiance, plutôt pas confiance ou pas du tout confiance : Aux lanceurs d’alerte de l’opinion publique\n",
    "data['Q4L_16'].value_counts()"
   ]
  },
  {
   "cell_type": "code",
   "execution_count": 646,
   "metadata": {},
   "outputs": [],
   "source": [
    "data[['Q4L_0', 'Q4L_1', 'Q4L_2', 'Q4L_3', 'Q4L_4', 'Q4L_5', 'Q4L_6', 'Q4L_7', 'Q4L_8', 'Q4L_9', 'Q4L_10', 'Q4L_11', 'Q4L_12', 'Q4L_13', 'Q4L_14', 'Q4L_15', 'Q4L_16']] = data[['Q4L_0', 'Q4L_1', 'Q4L_2', 'Q4L_3', 'Q4L_4', 'Q4L_5', 'Q4L_6', 'Q4L_7', 'Q4L_8', 'Q4L_9', 'Q4L_10', 'Q4L_11', 'Q4L_12', 'Q4L_13', 'Q4L_14', 'Q4L_15', 'Q4L_16']].astype('category')"
   ]
  },
  {
   "cell_type": "code",
   "execution_count": 647,
   "metadata": {},
   "outputs": [],
   "source": [
    "ItemsQ4L = ['Q4L_0', 'Q4L_1', 'Q4L_2', 'Q4L_3', 'Q4L_4', 'Q4L_5', 'Q4L_6', 'Q4L_7', 'Q4L_8','Q4L_9', 'Q4L_10', 'Q4L_11', 'Q4L_12', 'Q4L_13', 'Q4L_14', 'Q4L_15', 'Q4L_16']"
   ]
  },
  {
   "cell_type": "code",
   "execution_count": 648,
   "metadata": {},
   "outputs": [],
   "source": [
    "for i in data[ItemsQ4L].columns:\n",
    "    data[i] = data[i].cat.rename_categories({1: \"Tout à fait confiance\"\n",
    "                                                 , 2 : \"Plutôt confiance\"\n",
    "                                                 , 3 : \"Plutôt pas confiance\"\n",
    "                                                 , 4 : \"Pas du tout confiance\"})"
   ]
  },
  {
   "cell_type": "code",
   "execution_count": 649,
   "metadata": {},
   "outputs": [],
   "source": [
    "#changer l'order des categories\n",
    "for i in data[ItemsQ4L].columns:\n",
    "    data[i] = pd.Categorical(data[i], \n",
    "                            categories=['Pas du tout confiance'\n",
    "                                        , 'Plutôt pas confiance'\n",
    "                                        , 'Plutôt confiance'\n",
    "                                       , 'Tout à fait confiance'], \n",
    "                            ordered=True)"
   ]
  },
  {
   "cell_type": "code",
   "execution_count": 650,
   "metadata": {},
   "outputs": [
    {
     "data": {
      "text/plain": [
       "Q5L_4\n",
       "2    502\n",
       "3    288\n",
       "4    124\n",
       "1     47\n",
       "5     39\n",
       "Name: count, dtype: int64"
      ]
     },
     "execution_count": 650,
     "metadata": {},
     "output_type": "execute_result"
    }
   ],
   "source": [
    "# Variable 'Q5L_4'\n",
    "# Question : Diriez-vous que vous avez tout à fait, plutôt, plutôt pas ou pas du tout confiance dans les entreprises du secteur : Du médicament\n",
    "data['Q5L_4'].value_counts()"
   ]
  },
  {
   "cell_type": "code",
   "execution_count": 651,
   "metadata": {},
   "outputs": [],
   "source": [
    "data['Q5L_4'] = data['Q5L_4'].astype('category')\n",
    "data['Q5L_4'] = data['Q5L_4'].cat.rename_categories({1 : \"Tout à fait\"\n",
    "                                                 , 2 : \"Plutôt\"\n",
    "                                                 , 3 : \"Plutôt pas\"\n",
    "                                                 , 4 : \"Pas du tout\"\n",
    "                                                 , 5 : \"Vous ne savez pas\"})"
   ]
  },
  {
   "cell_type": "code",
   "execution_count": 652,
   "metadata": {},
   "outputs": [],
   "source": [
    "#changer l'order des categories de la variable 'Q5L_4'\n",
    "data['Q5L_4'] = pd.Categorical(data['Q5L_4'], \n",
    "                            categories=['Pas du tout'\n",
    "                                        , 'Plutôt pas'\n",
    "                                        , 'Plutôt'\n",
    "                                       , 'Tout à fait'\n",
    "                                       , 'Vous ne savez pas'], \n",
    "                            ordered=True)"
   ]
  },
  {
   "cell_type": "code",
   "execution_count": 653,
   "metadata": {},
   "outputs": [
    {
     "data": {
      "text/plain": [
       "Q6AL_0\n",
       "     500\n",
       "2    347\n",
       "1     80\n",
       "3     62\n",
       "4     11\n",
       "Name: count, dtype: int64"
      ]
     },
     "execution_count": 653,
     "metadata": {},
     "output_type": "execute_result"
    }
   ],
   "source": [
    "# Variable 'Q6AL_0'\n",
    "# Question : Parmi la liste suivante, veuillez indiquer pour chaque mention si elle correspond tout à fait, plutôt, plutôt pas ou pas du tout à l’image que vous avez des entreprises du médicament: Les entreprises du médicament sont… Utiles\n",
    "data['Q6AL_0'].value_counts()"
   ]
  },
  {
   "cell_type": "code",
   "execution_count": 654,
   "metadata": {},
   "outputs": [
    {
     "data": {
      "text/plain": [
       "Q6AL_1\n",
       "     500\n",
       "2    228\n",
       "3    205\n",
       "4     40\n",
       "1     27\n",
       "Name: count, dtype: int64"
      ]
     },
     "execution_count": 654,
     "metadata": {},
     "output_type": "execute_result"
    }
   ],
   "source": [
    "# Variable 'Q6AL_1'\n",
    "# Question : Parmi la liste suivante, veuillez indiquer pour chaque mention si elle correspond tout à fait, plutôt, plutôt pas ou pas du tout à l’image que vous avez des entreprises du médicament: Les entreprises du médicament sont… Ouvertes au changement\n",
    "data['Q6AL_1'].value_counts()"
   ]
  },
  {
   "cell_type": "code",
   "execution_count": 655,
   "metadata": {},
   "outputs": [
    {
     "data": {
      "text/plain": [
       "Q6AL_2\n",
       "     500\n",
       "2    198\n",
       "1    146\n",
       "3    132\n",
       "4     24\n",
       "Name: count, dtype: int64"
      ]
     },
     "execution_count": 655,
     "metadata": {},
     "output_type": "execute_result"
    }
   ],
   "source": [
    "# Variable 'Q6AL_2'\n",
    "# Question : Parmi la liste suivante, veuillez indiquer pour chaque mention si elle correspond tout à fait, plutôt, plutôt pas ou pas du tout à l’image que vous avez des entreprises du médicament: Les entreprises du médicament sont… Opaques\n",
    "data['Q6AL_2'].value_counts()"
   ]
  },
  {
   "cell_type": "code",
   "execution_count": 656,
   "metadata": {},
   "outputs": [
    {
     "data": {
      "text/plain": [
       "Q6AL_3\n",
       "     500\n",
       "3    265\n",
       "2    135\n",
       "4     88\n",
       "1     12\n",
       "Name: count, dtype: int64"
      ]
     },
     "execution_count": 656,
     "metadata": {},
     "output_type": "execute_result"
    }
   ],
   "source": [
    "# Variable 'Q6AL_3'\n",
    "# Question : Parmi la liste suivante, veuillez indiquer pour chaque mention si elle correspond tout à fait, plutôt, plutôt pas ou pas du tout à l’image que vous avez des entreprises du médicament: Les entreprises du médicament sont… Honnêtes\n",
    "data['Q6AL_3'].value_counts()"
   ]
  },
  {
   "cell_type": "code",
   "execution_count": 657,
   "metadata": {},
   "outputs": [
    {
     "data": {
      "text/plain": [
       "Q6AL_4\n",
       "     500\n",
       "3    244\n",
       "2    166\n",
       "4     73\n",
       "1     17\n",
       "Name: count, dtype: int64"
      ]
     },
     "execution_count": 657,
     "metadata": {},
     "output_type": "execute_result"
    }
   ],
   "source": [
    "# Variable 'Q6AL_4'\n",
    "# Question : Parmi la liste suivante, veuillez indiquer pour chaque mention si elle correspond tout à fait, plutôt, plutôt pas ou pas du tout à l’image que vous avez des entreprises du médicament: Les entreprises du médicament sont… Ethiques\n",
    "data['Q6AL_4'].value_counts()"
   ]
  },
  {
   "cell_type": "code",
   "execution_count": 658,
   "metadata": {},
   "outputs": [
    {
     "data": {
      "text/plain": [
       "Q6AL_5\n",
       "     500\n",
       "2    326\n",
       "3    127\n",
       "1     30\n",
       "4     17\n",
       "Name: count, dtype: int64"
      ]
     },
     "execution_count": 658,
     "metadata": {},
     "output_type": "execute_result"
    }
   ],
   "source": [
    "# Variable 'Q6AL_5'\n",
    "# Question : Parmi la liste suivante, veuillez indiquer pour chaque mention si elle correspond tout à fait, plutôt, plutôt pas ou pas du tout à l’image que vous avez des entreprises du médicament: Les entreprises du médicament sont… Efficaces\n",
    "data['Q6AL_5'].value_counts()"
   ]
  },
  {
   "cell_type": "code",
   "execution_count": 659,
   "metadata": {},
   "outputs": [
    {
     "data": {
      "text/plain": [
       "Q6AL_6\n",
       "     500\n",
       "2    337\n",
       "3     97\n",
       "1     52\n",
       "4     14\n",
       "Name: count, dtype: int64"
      ]
     },
     "execution_count": 659,
     "metadata": {},
     "output_type": "execute_result"
    }
   ],
   "source": [
    "# Variable 'Q6AL_6'\n",
    "# Question : Parmi la liste suivante, veuillez indiquer pour chaque mention si elle correspond tout à fait, plutôt, plutôt pas ou pas du tout à l’image que vous avez des entreprises du médicament: Les entreprises du médicament sont… A la pointe du progrès\n",
    "data['Q6AL_6'].value_counts()"
   ]
  },
  {
   "cell_type": "code",
   "execution_count": 660,
   "metadata": {},
   "outputs": [
    {
     "data": {
      "text/plain": [
       "Q6AL_7\n",
       "     500\n",
       "2    242\n",
       "3    207\n",
       "4     39\n",
       "1     12\n",
       "Name: count, dtype: int64"
      ]
     },
     "execution_count": 660,
     "metadata": {},
     "output_type": "execute_result"
    }
   ],
   "source": [
    "# Variable 'Q6AL_7'\n",
    "# Question : Parmi la liste suivante, veuillez indiquer pour chaque mention si elle correspond tout à fait, plutôt, plutôt pas ou pas du tout à l’image que vous avez des entreprises du médicament: Les entreprises du médicament sont… Respectueuses de leurs salariés\n",
    "data['Q6AL_7'].value_counts()"
   ]
  },
  {
   "cell_type": "code",
   "execution_count": 661,
   "metadata": {},
   "outputs": [
    {
     "data": {
      "text/plain": [
       "Q6AL_8\n",
       "     500\n",
       "2    227\n",
       "3    210\n",
       "4     40\n",
       "1     23\n",
       "Name: count, dtype: int64"
      ]
     },
     "execution_count": 661,
     "metadata": {},
     "output_type": "execute_result"
    }
   ],
   "source": [
    "# Variable 'Q6AL_8'\n",
    "# Question : Parmi la liste suivante, veuillez indiquer pour chaque mention si elle correspond tout à fait, plutôt, plutôt pas ou pas du tout à l’image que vous avez des entreprises du médicament: Les entreprises du médicament sont… Crédibles\n",
    "data['Q6AL_8'].value_counts()"
   ]
  },
  {
   "cell_type": "code",
   "execution_count": 662,
   "metadata": {},
   "outputs": [
    {
     "data": {
      "text/plain": [
       "Q6AL_9\n",
       "     500\n",
       "3    219\n",
       "2    192\n",
       "4     49\n",
       "1     40\n",
       "Name: count, dtype: int64"
      ]
     },
     "execution_count": 662,
     "metadata": {},
     "output_type": "execute_result"
    }
   ],
   "source": [
    "# Variable 'Q6AL_9'\n",
    "# Question : Parmi la liste suivante, veuillez indiquer pour chaque mention si elle correspond tout à fait, plutôt, plutôt pas ou pas du tout à l’image que vous avez des entreprises du médicament: Les entreprises du médicament sont… Très encadrées par les pouvoirs publics\n",
    "data['Q6AL_9'].value_counts()"
   ]
  },
  {
   "cell_type": "code",
   "execution_count": 663,
   "metadata": {},
   "outputs": [
    {
     "data": {
      "text/plain": [
       "Q6AL_10\n",
       "     500\n",
       "3    227\n",
       "2    195\n",
       "4     55\n",
       "1     23\n",
       "Name: count, dtype: int64"
      ]
     },
     "execution_count": 663,
     "metadata": {},
     "output_type": "execute_result"
    }
   ],
   "source": [
    "# Variable 'Q6AL_10'\n",
    "# Question : Parmi la liste suivante, veuillez indiquer pour chaque mention si elle correspond tout à fait, plutôt, plutôt pas ou pas du tout à l’image que vous avez des entreprises du médicament: Les entreprises du médicament sont… Respectueuses des patients\n",
    "data['Q6AL_10'].value_counts()"
   ]
  },
  {
   "cell_type": "code",
   "execution_count": 664,
   "metadata": {},
   "outputs": [
    {
     "data": {
      "text/plain": [
       "Q6AL_11\n",
       "     500\n",
       "3    274\n",
       "4    134\n",
       "2     82\n",
       "1     10\n",
       "Name: count, dtype: int64"
      ]
     },
     "execution_count": 664,
     "metadata": {},
     "output_type": "execute_result"
    }
   ],
   "source": [
    "# Variable 'Q6AL_11'\n",
    "# Question : Parmi la liste suivante, veuillez indiquer pour chaque mention si elle correspond tout à fait, plutôt, plutôt pas ou pas du tout à l’image que vous avez des entreprises du médicament: Les entreprises du médicament sont… Transparentes\n",
    "data['Q6AL_11'].value_counts()"
   ]
  },
  {
   "cell_type": "code",
   "execution_count": 665,
   "metadata": {},
   "outputs": [
    {
     "data": {
      "text/plain": [
       "Q6AL_12\n",
       "     500\n",
       "3    274\n",
       "2    144\n",
       "4     71\n",
       "1     11\n",
       "Name: count, dtype: int64"
      ]
     },
     "execution_count": 665,
     "metadata": {},
     "output_type": "execute_result"
    }
   ],
   "source": [
    "# Variable 'Q6AL_12'\n",
    "# Question : Parmi la liste suivante, veuillez indiquer pour chaque mention si elle correspond tout à fait, plutôt, plutôt pas ou pas du tout à l’image que vous avez des entreprises du médicament: Les entreprises du médicament sont… Respectueuses de l’environnement\n",
    "data['Q6AL_12'].value_counts()"
   ]
  },
  {
   "cell_type": "code",
   "execution_count": 666,
   "metadata": {},
   "outputs": [],
   "source": [
    "data[['Q6AL_0', 'Q6AL_1', 'Q6AL_2', 'Q6AL_3', 'Q6AL_4', 'Q6AL_5', 'Q6AL_6', 'Q6AL_7', 'Q6AL_8', 'Q6AL_9', 'Q6AL_10', 'Q6AL_11', 'Q6AL_12']] = data[['Q6AL_0', 'Q6AL_1', 'Q6AL_2', 'Q6AL_3', 'Q6AL_4', 'Q6AL_5', 'Q6AL_6', 'Q6AL_7', 'Q6AL_8', 'Q6AL_9', 'Q6AL_10', 'Q6AL_11', 'Q6AL_12']].astype('category')"
   ]
  },
  {
   "cell_type": "code",
   "execution_count": 667,
   "metadata": {},
   "outputs": [],
   "source": [
    "ItemsQ6AL = ['Q6AL_0', 'Q6AL_1', 'Q6AL_2', 'Q6AL_3', 'Q6AL_4', 'Q6AL_5', 'Q6AL_6', 'Q6AL_7', 'Q6AL_8', 'Q6AL_9', 'Q6AL_10', 'Q6AL_11', 'Q6AL_12']"
   ]
  },
  {
   "cell_type": "code",
   "execution_count": 668,
   "metadata": {},
   "outputs": [],
   "source": [
    "for i in data[ItemsQ6AL].columns:\n",
    "    data[i] = data[i].cat.rename_categories({' ' : \" \"\n",
    "                                                 , '1' : \"Tout à fait\"\n",
    "                                                 , '2' : \"Plutôt\"\n",
    "                                                 , '3' : \"Plutôt pas\"\n",
    "                                                 , '4' : \"Pas du tout\"})"
   ]
  },
  {
   "cell_type": "code",
   "execution_count": 669,
   "metadata": {},
   "outputs": [],
   "source": [
    "#changer l'order des categories\n",
    "for i in data[ItemsQ6AL].columns:\n",
    "    data[i] = pd.Categorical(data[i], \n",
    "                            categories=['Pas du tout'\n",
    "                                        , 'Plutôt pas'\n",
    "                                        , 'Plutôt'\n",
    "                                       , 'Tout à fait'\n",
    "                                       , ' '], \n",
    "                            ordered=True)"
   ]
  },
  {
   "cell_type": "code",
   "execution_count": 670,
   "metadata": {},
   "outputs": [
    {
     "data": {
      "text/plain": [
       "Q8\n",
       "1    533\n",
       "3    320\n",
       "2    147\n",
       "Name: count, dtype: int64"
      ]
     },
     "execution_count": 670,
     "metadata": {},
     "output_type": "execute_result"
    }
   ],
   "source": [
    "# Variable 'Q8'\n",
    "# Question :  Aujourd'hui concernant les vaccins en général, vous diriez qu'ils présentent pour la santé....\n",
    "data['Q8'].value_counts()"
   ]
  },
  {
   "cell_type": "code",
   "execution_count": 671,
   "metadata": {},
   "outputs": [],
   "source": [
    "data['Q8'] = data['Q8'].astype('category')\n",
    "data['Q8'] = data['Q8'].cat.rename_categories({1 : \"Plus de bénéfices que de risques\"\n",
    "                                                 , 2 : \"Plus de risques que de bénéfices\"\n",
    "                                                 , 3 : \"Autant de risques que de bénéfices\"})"
   ]
  },
  {
   "cell_type": "code",
   "execution_count": 672,
   "metadata": {},
   "outputs": [],
   "source": [
    "#changer l'order des categories de la variable 'Q8'\n",
    "data['Q8'] = pd.Categorical(data['Q8'], \n",
    "                            categories=['Plus de risques que de bénéfices'\n",
    "                                        , 'Autant de risques que de bénéfices'\n",
    "                                        , 'Plus de bénéfices que de risques'], \n",
    "                            ordered=True)"
   ]
  },
  {
   "cell_type": "code",
   "execution_count": 673,
   "metadata": {},
   "outputs": [
    {
     "data": {
      "text/plain": [
       "Q9L\n",
       "1    432\n",
       "2    341\n",
       "3    170\n",
       "4     57\n",
       "Name: count, dtype: int64"
      ]
     },
     "execution_count": 673,
     "metadata": {},
     "output_type": "execute_result"
    }
   ],
   "source": [
    "# Variable 'Q9L'\n",
    "# Question :  Aujourd'hui, vous savez si vous 'êtes à jour' concernant la vaccination, c'est-à-dire si vous avez reçu les vaccins recommandés en fonction de votre âge et de votre situation et avec le bon nombre d'injections nécessaires pour être protégé ?\n",
    "data['Q9L'].value_counts()"
   ]
  },
  {
   "cell_type": "code",
   "execution_count": 674,
   "metadata": {},
   "outputs": [],
   "source": [
    "data['Q9L'] = data['Q9L'].astype('category')\n",
    "data['Q9L'] = data['Q9L'].cat.rename_categories({1 : \"Oui, j'en suis sûr\"\n",
    "                                                 , 2 : \"Oui, je crois\"\n",
    "                                                 , 3 : \"Non, je ne suis pas à jour\"\n",
    "                                                 , 4 : \"Je ne sais pas\"})"
   ]
  },
  {
   "cell_type": "code",
   "execution_count": 675,
   "metadata": {},
   "outputs": [],
   "source": [
    "#changer l'order des categories de la variable 'Q9L'\n",
    "data['Q9L'] = pd.Categorical(data['Q9L'], \n",
    "                            categories=[\"Non, je ne suis pas à jour\"\n",
    "                                        , \"Oui, je crois\"\n",
    "                                        , \"Oui, j'en suis sûr\"\n",
    "                                       , \"Je ne sais pas\"], \n",
    "                            ordered=True)"
   ]
  },
  {
   "cell_type": "code",
   "execution_count": 676,
   "metadata": {},
   "outputs": [
    {
     "data": {
      "text/plain": [
       "RS1L\n",
       "1    469\n",
       "7    199\n",
       "6     87\n",
       "4     77\n",
       "5     51\n",
       "3     45\n",
       "2     45\n",
       "8     27\n",
       "Name: count, dtype: int64"
      ]
     },
     "execution_count": 676,
     "metadata": {},
     "output_type": "execute_result"
    }
   ],
   "source": [
    "# Variable 'RS1L'\n",
    "# Question : A quelle fréquence prenez-vous des médicaments, qu’ils soient avec ou sans ordonnance :Une seule réponse possible\n",
    "data['RS1L'].value_counts()"
   ]
  },
  {
   "cell_type": "code",
   "execution_count": 677,
   "metadata": {},
   "outputs": [],
   "source": [
    "data['RS1L'] = data['RS1L'].astype('category')\n",
    "data['RS1L'] = data['RS1L'].cat.rename_categories({1 : \"Tous les jours\"\n",
    "                                                 , 2 : \"Plusieurs fois par semaine\"\n",
    "                                                 , 3 : \"Environ 1 fois par semaine\"\n",
    "                                                 , 4 : \"2 à 3 fois par mois\"\n",
    "                                                 , 5 : \"1 fois par mois\"\n",
    "                                                 , 6 : \"1 fois tous les 2-3 mois\"\n",
    "                                                 , 7 : \"Moins souvent\"\n",
    "                                                 , 8 : \"Jamais\"})"
   ]
  },
  {
   "cell_type": "code",
   "execution_count": 678,
   "metadata": {},
   "outputs": [],
   "source": [
    "#changer l'order des categories de la variable 'RS1L'\n",
    "data['RS1L'] = pd.Categorical(data['RS1L'], \n",
    "                            categories=['Jamais'\n",
    "                                        , 'Moins souvent'\n",
    "                                        , '1 fois tous les 2-3 mois'\n",
    "                                        , '1 fois par mois'\n",
    "                                        , '2 à 3 fois par mois'\n",
    "                                        , 'Environ 1 fois par semaine'\n",
    "                                        , 'Plusieurs fois par semaine'\n",
    "                                        , 'Tous les jours'], \n",
    "                            ordered=True)"
   ]
  },
  {
   "cell_type": "code",
   "execution_count": 679,
   "metadata": {},
   "outputs": [
    {
     "data": {
      "text/plain": [
       "RS2\n",
       "2    681\n",
       "1    301\n",
       "3     18\n",
       "Name: count, dtype: int64"
      ]
     },
     "execution_count": 679,
     "metadata": {},
     "output_type": "execute_result"
    }
   ],
   "source": [
    "# Variable 'RS2'\n",
    "# Question : Vous-même, souffrez-vous d’une ou plusieurs Affection(s) de Longue Durée (ALD), également appelée maladie(s) chronique(s) ou longue(s) maladie(s) ?\n",
    "data['RS2'].value_counts()"
   ]
  },
  {
   "cell_type": "code",
   "execution_count": 680,
   "metadata": {},
   "outputs": [],
   "source": [
    "data['RS2'] = data['RS2'].astype('category')\n",
    "data['RS2'] = data['RS2'].cat.rename_categories({1 : \"Oui\"\n",
    "                                                 , 2 : \"Non\"\n",
    "                                                , 3 : \"Ne souhaite pas répondre\"})"
   ]
  },
  {
   "cell_type": "code",
   "execution_count": 681,
   "metadata": {},
   "outputs": [],
   "source": [
    "data['RS2'] = pd.Categorical(data['RS2'], \n",
    "                            categories=['Oui', 'Non'\n",
    "                                       , 'Ne souhaite pas répondre'], \n",
    "                            ordered=True)"
   ]
  },
  {
   "cell_type": "code",
   "execution_count": 682,
   "metadata": {},
   "outputs": [
    {
     "data": {
      "text/plain": [
       "RS3_0\n",
       "0    934\n",
       "1     66\n",
       "Name: count, dtype: int64"
      ]
     },
     "execution_count": 682,
     "metadata": {},
     "output_type": "execute_result"
    }
   ],
   "source": [
    "# Variable 'RS3_0'\n",
    "# Question : De quelle(s) maladie(s) longue(s) souffrez-vous ? Rhumatologie (arthrose, polyarthrite rhumatoïde, spondylarthrite grave, ...)\n",
    "data['RS3_0'].value_counts()"
   ]
  },
  {
   "cell_type": "code",
   "execution_count": 683,
   "metadata": {},
   "outputs": [
    {
     "data": {
      "text/plain": [
       "RS3_1\n",
       "0    901\n",
       "1     99\n",
       "Name: count, dtype: int64"
      ]
     },
     "execution_count": 683,
     "metadata": {},
     "output_type": "execute_result"
    }
   ],
   "source": [
    "# Variable 'RS3_1'\n",
    "# Question : De quelle(s) maladie(s) longue(s) souffrez-vous ? Maladie cardiaque (insuffisance cardiaque, trouble du rythme, hypertension artérielle...)\n",
    "data['RS3_1'].value_counts()"
   ]
  },
  {
   "cell_type": "code",
   "execution_count": 684,
   "metadata": {},
   "outputs": [
    {
     "data": {
      "text/plain": [
       "RS3_2\n",
       "0    998\n",
       "1      2\n",
       "Name: count, dtype: int64"
      ]
     },
     "execution_count": 684,
     "metadata": {},
     "output_type": "execute_result"
    }
   ],
   "source": [
    "# Variable 'RS3_2'\n",
    "# Question : De quelle(s) maladie(s) longue(s) souffrez-vous ? Maladie infectieuse (VIH / sida,...)\n",
    "data['RS3_2'].value_counts()"
   ]
  },
  {
   "cell_type": "code",
   "execution_count": 685,
   "metadata": {},
   "outputs": [
    {
     "data": {
      "text/plain": [
       "RS3_3\n",
       "0    986\n",
       "1     14\n",
       "Name: count, dtype: int64"
      ]
     },
     "execution_count": 685,
     "metadata": {},
     "output_type": "execute_result"
    }
   ],
   "source": [
    "# Variable 'RS3_3'\n",
    "# Question : De quelle(s) maladie(s) longue(s) souffrez-vous ? Maladie neurologique (Maladie d’Alzheimer, Maladie de Parkinson, Sclérose en plaques, épilepsie...)\n",
    "data['RS3_3'].value_counts()"
   ]
  },
  {
   "cell_type": "code",
   "execution_count": 686,
   "metadata": {},
   "outputs": [
    {
     "data": {
      "text/plain": [
       "RS3_4\n",
       "0    991\n",
       "1      9\n",
       "Name: count, dtype: int64"
      ]
     },
     "execution_count": 686,
     "metadata": {},
     "output_type": "execute_result"
    }
   ],
   "source": [
    "# Variable 'RS3_4'\n",
    "# Question : De quelle(s) maladie(s) longue(s) souffrez-vous ? Maladie pneumologique (mucoviscidose, insuffisance respiratoire chronique grave, ...)\n",
    "data['RS3_4'].value_counts()"
   ]
  },
  {
   "cell_type": "code",
   "execution_count": 687,
   "metadata": {},
   "outputs": [
    {
     "data": {
      "text/plain": [
       "RS3_5\n",
       "0    986\n",
       "1     14\n",
       "Name: count, dtype: int64"
      ]
     },
     "execution_count": 687,
     "metadata": {},
     "output_type": "execute_result"
    }
   ],
   "source": [
    "# Variable 'RS3_5'\n",
    "# Question : De quelle(s) maladie(s) longue(s) souffrez-vous ? Maladie rénale (insuffisance rénale chronique, néphropathie chronique grave, ...)\n",
    "data['RS3_5'].value_counts()"
   ]
  },
  {
   "cell_type": "code",
   "execution_count": 688,
   "metadata": {},
   "outputs": [
    {
     "data": {
      "text/plain": [
       "RS3_6\n",
       "0    982\n",
       "1     18\n",
       "Name: count, dtype: int64"
      ]
     },
     "execution_count": 688,
     "metadata": {},
     "output_type": "execute_result"
    }
   ],
   "source": [
    "# Variable 'RS3_6'\n",
    "# Question : De quelle(s) maladie(s) longue(s) souffrez-vous ? Maladies du système digestif (maladie de Crohn, cirrhose du foie, hépatite, ...)\n",
    "data['RS3_6'].value_counts()"
   ]
  },
  {
   "cell_type": "code",
   "execution_count": 689,
   "metadata": {},
   "outputs": [
    {
     "data": {
      "text/plain": [
       "RS3_7\n",
       "0    974\n",
       "1     26\n",
       "Name: count, dtype: int64"
      ]
     },
     "execution_count": 689,
     "metadata": {},
     "output_type": "execute_result"
    }
   ],
   "source": [
    "# Variable 'RS3_7'\n",
    "# Question : De quelle(s) maladie(s) longue(s) souffrez-vous ? Dépression\n",
    "data['RS3_7'].value_counts()"
   ]
  },
  {
   "cell_type": "code",
   "execution_count": 690,
   "metadata": {},
   "outputs": [
    {
     "data": {
      "text/plain": [
       "RS3_8\n",
       "0    973\n",
       "1     27\n",
       "Name: count, dtype: int64"
      ]
     },
     "execution_count": 690,
     "metadata": {},
     "output_type": "execute_result"
    }
   ],
   "source": [
    "# Variable 'RS3_8'\n",
    "# Question : De quelle(s) maladie(s) longue(s) souffrez-vous ? Cancer\n",
    "data['RS3_8'].value_counts()"
   ]
  },
  {
   "cell_type": "code",
   "execution_count": 691,
   "metadata": {},
   "outputs": [
    {
     "data": {
      "text/plain": [
       "RS3_9\n",
       "0    878\n",
       "1    122\n",
       "Name: count, dtype: int64"
      ]
     },
     "execution_count": 691,
     "metadata": {},
     "output_type": "execute_result"
    }
   ],
   "source": [
    "# Variable 'RS3_9'\n",
    "# Question : De quelle(s) maladie(s) longue(s) souffrez-vous ? Autres\n",
    "data['RS3_9'].value_counts()"
   ]
  },
  {
   "cell_type": "code",
   "execution_count": 692,
   "metadata": {},
   "outputs": [],
   "source": [
    "data[['RS3_0', 'RS3_1', 'RS3_2', 'RS3_3', 'RS3_4', 'RS3_5', 'RS3_6', 'RS3_7', 'RS3_8', 'RS3_9']] = data[['RS3_0', 'RS3_1', 'RS3_2', 'RS3_3', 'RS3_4', 'RS3_5', 'RS3_6', 'RS3_7', 'RS3_8', 'RS3_9']].astype('category')"
   ]
  },
  {
   "cell_type": "code",
   "execution_count": 693,
   "metadata": {},
   "outputs": [],
   "source": [
    "ItemsRS3 = ['RS3_0', 'RS3_1', 'RS3_2', 'RS3_3', 'RS3_4', 'RS3_5', 'RS3_6', 'RS3_7', 'RS3_8', 'RS3_9']"
   ]
  },
  {
   "cell_type": "code",
   "execution_count": 694,
   "metadata": {},
   "outputs": [],
   "source": [
    "for i in data[ItemsRS3].columns:\n",
    "    data[i] = data[i].cat.rename_categories({0 : \"Non\"\n",
    "                                                 , 1 : \"Oui\"})"
   ]
  },
  {
   "cell_type": "code",
   "execution_count": 695,
   "metadata": {},
   "outputs": [],
   "source": [
    "#changer l'order des categories\n",
    "for i in data[ItemsRS3].columns:\n",
    "    data[i] = pd.Categorical(data[i], \n",
    "                            categories=['Non'\n",
    "                                        , 'Oui'], \n",
    "                            ordered=True)"
   ]
  },
  {
   "cell_type": "code",
   "execution_count": 696,
   "metadata": {},
   "outputs": [
    {
     "data": {
      "text/plain": [
       "RS4\n",
       "2    623\n",
       "1    349\n",
       "3     28\n",
       "Name: count, dtype: int64"
      ]
     },
     "execution_count": 696,
     "metadata": {},
     "output_type": "execute_result"
    }
   ],
   "source": [
    "# Variable 'RS4'\n",
    "# Question : Un de vos proches souffre-t-il ou a-t-il souffert d’une ALD/maladie chronique ou longue maladie… ?\n",
    "data['RS4'].value_counts()"
   ]
  },
  {
   "cell_type": "code",
   "execution_count": 697,
   "metadata": {},
   "outputs": [],
   "source": [
    "data['RS4'] = data['RS4'].astype('category')\n",
    "data['RS4'] = data['RS4'].cat.rename_categories({1 : \"Oui\"\n",
    "                                                 , 2 : \"Non\"\n",
    "                                                 , 3 : \"Refus de répondre\"})"
   ]
  },
  {
   "cell_type": "code",
   "execution_count": 698,
   "metadata": {},
   "outputs": [],
   "source": [
    "#changer l'order des categories de la variable 'RS4'\n",
    "data['RS4'] = pd.Categorical(data['RS4'], \n",
    "                            categories=['Non'\n",
    "                                        , 'Oui'\n",
    "                                        , 'Refus de répondre'], \n",
    "                            ordered=True)"
   ]
  },
  {
   "cell_type": "code",
   "execution_count": 699,
   "metadata": {},
   "outputs": [
    {
     "data": {
      "text/plain": [
       "RS5L\n",
       "6    611\n",
       "1    177\n",
       "2    158\n",
       "3     45\n",
       "4      6\n",
       "5      3\n",
       "Name: count, dtype: int64"
      ]
     },
     "execution_count": 699,
     "metadata": {},
     "output_type": "execute_result"
    }
   ],
   "source": [
    "# Variable 'RS5L'\n",
    "# Question : Combien y a-t-il d’enfants (quel que soit leur âge) à charge des parents dans votre logement ?\n",
    "data['RS5L'].value_counts()"
   ]
  },
  {
   "cell_type": "code",
   "execution_count": 700,
   "metadata": {},
   "outputs": [],
   "source": [
    "data['RS5L'] = data['RS5L'].astype('category')\n",
    "data['RS5L'] = data['RS5L'].cat.rename_categories({1 : \"1\"\n",
    "                                                 , 2 : \"2\"\n",
    "                                                 , 3 : \"3\"\n",
    "                                                 , 4 : \"4\"\n",
    "                                                 , 5 : \"5 ou plus\"\n",
    "                                                 , 6 : \"Aucun\"})"
   ]
  },
  {
   "cell_type": "code",
   "execution_count": 701,
   "metadata": {},
   "outputs": [],
   "source": [
    "#changer l'order des categories de la variable 'RS5L'\n",
    "data['RS5L'] = pd.Categorical(data['RS5L'], \n",
    "                            categories=['Aucun'\n",
    "                                        , '1', '2', '3', '4'\n",
    "                                        , '5 ou plus'], \n",
    "                            ordered=True)"
   ]
  },
  {
   "cell_type": "code",
   "execution_count": 702,
   "metadata": {},
   "outputs": [
    {
     "data": {
      "text/plain": [
       "RS5BL_0\n",
       "     980\n",
       "1     20\n",
       "Name: count, dtype: int64"
      ]
     },
     "execution_count": 702,
     "metadata": {},
     "output_type": "execute_result"
    }
   ],
   "source": [
    "# Variable 'RS5BL_0'\n",
    "# Question : Et quel âge « ont ces enfants » ? (Moins d'un an)\n",
    "data['RS5BL_0'].value_counts()"
   ]
  },
  {
   "cell_type": "code",
   "execution_count": 703,
   "metadata": {},
   "outputs": [
    {
     "data": {
      "text/plain": [
       "RS5BL_1\n",
       "     905\n",
       "1     95\n",
       "Name: count, dtype: int64"
      ]
     },
     "execution_count": 703,
     "metadata": {},
     "output_type": "execute_result"
    }
   ],
   "source": [
    "# Variable 'RS5BL_1'\n",
    "# Question : Et quel âge « ont ces enfants » ? (1 à 5 ans)\n",
    "data['RS5BL_1'].value_counts()"
   ]
  },
  {
   "cell_type": "code",
   "execution_count": 704,
   "metadata": {},
   "outputs": [
    {
     "data": {
      "text/plain": [
       "RS5BL_2\n",
       "     895\n",
       "1    105\n",
       "Name: count, dtype: int64"
      ]
     },
     "execution_count": 704,
     "metadata": {},
     "output_type": "execute_result"
    }
   ],
   "source": [
    "# Variable 'RS5BL_2'\n",
    "# Question : Et quel âge « ont ces enfants » ? (6 à 10 ans)\n",
    "data['RS5BL_2'].value_counts()"
   ]
  },
  {
   "cell_type": "code",
   "execution_count": 705,
   "metadata": {},
   "outputs": [
    {
     "data": {
      "text/plain": [
       "RS5BL_3\n",
       "     884\n",
       "1    116\n",
       "Name: count, dtype: int64"
      ]
     },
     "execution_count": 705,
     "metadata": {},
     "output_type": "execute_result"
    }
   ],
   "source": [
    "# Variable 'RS5BL_3'\n",
    "# Question : Et quel âge « ont ces enfants » ? (10 à 15 ans)\n",
    "data['RS5BL_3'].value_counts()"
   ]
  },
  {
   "cell_type": "code",
   "execution_count": 706,
   "metadata": {},
   "outputs": [
    {
     "data": {
      "text/plain": [
       "RS5BL_4\n",
       "     810\n",
       "1    190\n",
       "Name: count, dtype: int64"
      ]
     },
     "execution_count": 706,
     "metadata": {},
     "output_type": "execute_result"
    }
   ],
   "source": [
    "# Variable 'RS5BL_4'\n",
    "# Question : Et quel âge « ont ces enfants » ? (15 ans et plus)\n",
    "data['RS5BL_4'].value_counts()"
   ]
  },
  {
   "cell_type": "code",
   "execution_count": 707,
   "metadata": {},
   "outputs": [],
   "source": [
    "data[['RS5BL_0', 'RS5BL_1', 'RS5BL_2', 'RS5BL_3', 'RS5BL_4']] = data[['RS5BL_0', 'RS5BL_1', 'RS5BL_2', 'RS5BL_3', 'RS5BL_4']].astype('category')"
   ]
  },
  {
   "cell_type": "code",
   "execution_count": 708,
   "metadata": {},
   "outputs": [],
   "source": [
    "ItemsRS5BL = ['RS5BL_0', 'RS5BL_1', 'RS5BL_2', 'RS5BL_3', 'RS5BL_4']"
   ]
  },
  {
   "cell_type": "code",
   "execution_count": 709,
   "metadata": {},
   "outputs": [
    {
     "data": {
      "text/plain": [
       "CategoricalDtype(categories=[' ', '1'], ordered=False)"
      ]
     },
     "execution_count": 709,
     "metadata": {},
     "output_type": "execute_result"
    }
   ],
   "source": [
    "data['RS5BL_4'].dtype"
   ]
  },
  {
   "cell_type": "code",
   "execution_count": 710,
   "metadata": {},
   "outputs": [],
   "source": [
    "for i in data[ItemsRS5BL].columns:\n",
    "    data[i] = data[i].cat.rename_categories({' ': \" \"\n",
    "                                            , '1' : \"Oui\"})"
   ]
  },
  {
   "cell_type": "code",
   "execution_count": 711,
   "metadata": {},
   "outputs": [],
   "source": [
    "#changer l'order des categories\n",
    "for i in data[ItemsRS5BL].columns:\n",
    "    data[i] = pd.Categorical(data[i], \n",
    "                            categories=[' '\n",
    "                                        , 'Oui'], \n",
    "                            ordered=True)"
   ]
  },
  {
   "cell_type": "code",
   "execution_count": 712,
   "metadata": {},
   "outputs": [
    {
     "data": {
      "text/plain": [
       "INCOME\n",
       "4    264\n",
       "3    229\n",
       "2    198\n",
       "     171\n",
       "1    138\n",
       "Name: count, dtype: int64"
      ]
     },
     "execution_count": 712,
     "metadata": {},
     "output_type": "execute_result"
    }
   ],
   "source": [
    "# Variable 'INCOME'\n",
    "# Question : Quel est le revenu net de votre foyer après impôts ?\n",
    "data['INCOME'].value_counts()"
   ]
  },
  {
   "cell_type": "code",
   "execution_count": 713,
   "metadata": {},
   "outputs": [],
   "source": [
    "data['INCOME'] = data['INCOME'].astype('category')\n",
    "data['INCOME'] = data['INCOME'].cat.rename_categories({' ' : \" \"\n",
    "                                                 ,'1' : \"Moins de 1.250 €\"\n",
    "                                                 , '2' : \"1.251 € à 2.000 €\"\n",
    "                                                 , '3' : \"2.001 € à 3.000 €\"\n",
    "                                                 , '4' : \"Plus de 3.001 €\"})"
   ]
  },
  {
   "cell_type": "code",
   "execution_count": 714,
   "metadata": {},
   "outputs": [],
   "source": [
    "#changer l'order des categories de la variable 'INCOME'\n",
    "data['INCOME'] = pd.Categorical(data['INCOME'], \n",
    "                            categories=['Moins de 1.250 €'\n",
    "                                        , '1.251 € à 2.000 €'\n",
    "                                        , '2.001 € à 3.000 €'\n",
    "                                       , 'Plus de 3.001 €'\n",
    "                                       , ' '], \n",
    "                            ordered=True)"
   ]
  },
  {
   "cell_type": "code",
   "execution_count": 715,
   "metadata": {},
   "outputs": [
    {
     "data": {
      "text/plain": [
       "INCOME\n",
       "Plus de 3.001 €      264\n",
       "2.001 € à 3.000 €    229\n",
       "1.251 € à 2.000 €    198\n",
       "                     171\n",
       "Moins de 1.250 €     138\n",
       "Name: count, dtype: int64"
      ]
     },
     "execution_count": 715,
     "metadata": {},
     "output_type": "execute_result"
    }
   ],
   "source": [
    "data['INCOME'].value_counts()"
   ]
  },
  {
   "cell_type": "code",
   "execution_count": 716,
   "metadata": {},
   "outputs": [],
   "source": [
    "B = ['Q1L', 'Q2L', 'Q3L_0', 'Q3L_1', 'Q3L_2', 'Q3L_3', 'Q3L_4', 'Q3L_5', 'Q3L_6', 'Q3L_7', 'Q4L_0', 'Q4L_1', 'Q4L_2', 'Q4L_3'\n",
    "     , 'Q4L_4', 'Q4L_5', 'Q4L_6', 'Q4L_7', 'Q4L_8','Q4L_9', 'Q4L_10', 'Q4L_11', 'Q4L_12', 'Q4L_13', 'Q4L_14', 'Q4L_15', 'Q4L_16'\n",
    "     , 'Q5L_4', 'Q6AL_0', 'Q6AL_1', 'Q6AL_2', 'Q6AL_3', 'Q6AL_4', 'Q6AL_5', 'Q6AL_6', 'Q6AL_7', 'Q6AL_8', 'Q6AL_9', 'Q6AL_10', 'Q6AL_11'\n",
    "     , 'Q6AL_12', 'Q8', 'Q9L', 'RS1L', 'RS2', 'RS3_0', 'RS3_1', 'RS3_2', 'RS3_3', 'RS3_4', 'RS3_5', 'RS3_6', 'RS3_7', 'RS3_8', 'RS3_9'\n",
    "     , 'RS4']"
   ]
  },
  {
   "cell_type": "code",
   "execution_count": 717,
   "metadata": {},
   "outputs": [],
   "source": [
    "# fonction pour creer un tableau croisé multiple avec effectifs et pourcentages\n",
    "def tableau_croise_final(\n",
    "    data, var_dep, indeps):\n",
    "    t_nombre = pyshs.tableau_croise_multiple(data,\n",
    "                              var_dep,\n",
    "                              indeps,\n",
    "                              \"PSD\",               \n",
    "                              contenu=\"absolu\") \n",
    "    t_pourcentage = pyshs.tableau_croise_multiple(data,\n",
    "                              var_dep,\n",
    "                              indeps,\n",
    "                              \"PSD\",                   \n",
    "                              contenu=\"pourcentage\" )\n",
    "    t=pd.concat({n:pd.concat({\"Effectif\":t_nombre[n],\"%\":t_pourcentage[n]},axis=1)                     \n",
    "        for n in t_nombre.columns if n != \"Total\" and n != \"Distribution\"},axis=1)\n",
    "    \n",
    "    for n in t_nombre.columns:\n",
    "        if n == \"Total\":\n",
    "            t[\"Total\"] = t_nombre[\"Total\"]\n",
    "\n",
    "    t[\"Distribution\"]= t_pourcentage[\"Distribution\"]\n",
    "    \n",
    "    t = t.reset_index()\n",
    "    \n",
    "    t[\"Question\"] = t[\"Variable\"].apply(lambda x : x.split(' ')[0])\n",
    "    \n",
    "    t[\"Question\"] = t[\"Question\"].apply(lambda x : list({key: questions_variables[key] for key in [x]}.values())[0])\n",
    "    \n",
    "    t = t.set_index(['Question','Variable'])\n",
    "    \n",
    "    return t\n",
    "\n",
    "\n",
    "   "
   ]
  },
  {
   "cell_type": "code",
   "execution_count": 718,
   "metadata": {},
   "outputs": [],
   "source": [
    "Tableaux = {}\n",
    "for i in B:\n",
    "    tableau_i = tableau_croise_final(data, i, list_indeps)\n",
    "    Tableaux.update({i: tableau_i})"
   ]
  },
  {
   "cell_type": "code",
   "execution_count": 719,
   "metadata": {},
   "outputs": [
    {
     "name": "stderr",
     "output_type": "stream",
     "text": [
      "<ipython-input-719-22dbbe8d7fea>:1: UserWarning: Pandas requires version '1.4.3' or newer of 'xlsxwriter' (version '1.3.7' currently installed).\n",
      "  with pd.ExcelWriter(r\"C:\\Users\\rana_\\OneDrive\\Bureau\\inserm\\travaux\\IFOP et LEEM\\transfer_5678355_files_71b8c3b2\\LEEM-2016\\Leem_2016_analyse\\Tableaux_croisés_Leem_3016.xlsx\") as engine:\n"
     ]
    }
   ],
   "source": [
    "with pd.ExcelWriter(r\"C:\\Users\\rana_\\OneDrive\\Bureau\\inserm\\travaux\\IFOP et LEEM\\transfer_5678355_files_71b8c3b2\\LEEM-2016\\Leem_2016_analyse\\Tableaux_croisés_Leem_2016.xlsx\") as engine:\n",
    "    for key, val in Tableaux.items():\n",
    "        val.to_excel(engine, sheet_name=key)"
   ]
  },
  {
   "cell_type": "code",
   "execution_count": null,
   "metadata": {},
   "outputs": [],
   "source": []
  }
 ],
 "metadata": {
  "kernelspec": {
   "display_name": "Python 3",
   "language": "python",
   "name": "python3"
  },
  "language_info": {
   "codemirror_mode": {
    "name": "ipython",
    "version": 3
   },
   "file_extension": ".py",
   "mimetype": "text/x-python",
   "name": "python",
   "nbconvert_exporter": "python",
   "pygments_lexer": "ipython3",
   "version": "3.8.5"
  }
 },
 "nbformat": 4,
 "nbformat_minor": 4
}
